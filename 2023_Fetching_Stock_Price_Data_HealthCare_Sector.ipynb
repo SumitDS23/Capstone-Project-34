{
  "cells": [
    {
      "cell_type": "markdown",
      "metadata": {
        "id": "view-in-github",
        "colab_type": "text"
      },
      "source": [
        "<a href=\"https://colab.research.google.com/github/SumitDS23/Capstone-Project-34/blob/main/2023_Fetching_Stock_Price_Data_HealthCare_Sector.ipynb\" target=\"_parent\"><img src=\"https://colab.research.google.com/assets/colab-badge.svg\" alt=\"Open In Colab\"/></a>"
      ]
    },
    {
      "cell_type": "markdown",
      "metadata": {
        "id": "xJv90NJam2Za"
      },
      "source": [
        "## Fetching the Stock Price Data for the Health Care Sector"
      ]
    },
    {
      "cell_type": "code",
      "execution_count": 1,
      "metadata": {
        "id": "3XfJV8PFm2Zb"
      },
      "outputs": [],
      "source": [
        "# Load libraries\n",
        "import pandas as pd\n",
        "import pandas_datareader as dr\n",
        "import numpy as np"
      ]
    },
    {
      "cell_type": "code",
      "execution_count": 2,
      "metadata": {
        "id": "zj4-NKLOm2Zd"
      },
      "outputs": [],
      "source": [
        "#import numpy as np\n",
        "#tickers = np.array(['MARUTI.NS','M&M.NS','TATAMOTORS.NS','BAJAJ-AUTO.NS','EICHERMOT.NS','HEROMOTOCO.NS','TIINDIA.NS','ASHOKLEY.NS','BHARATFORG.NS', 'BALKRISIND.NS'])\n",
        "#tickers"
      ]
    },
    {
      "cell_type": "code",
      "execution_count": 3,
      "metadata": {
        "colab": {
          "base_uri": "https://localhost:8080/"
        },
        "id": "lq47eeYGm2Zd",
        "outputId": "9c360db2-b735-4281-9033-13bedbadd813"
      },
      "outputs": [
        {
          "output_type": "execute_result",
          "data": {
            "text/plain": [
              "array(['SUNPHARMA.NS', 'DRREDDY.NS', 'CIPLA.NS', 'APOLLOHOSP.NS',\n",
              "       'DIVISLAB.NS', 'MAXHEALTH.NS', 'LUPIN.NS', 'AUROPHARMA.NS',\n",
              "       'ALKEM.NS', 'TORNTPHARM.NS'], dtype='<U13')"
            ]
          },
          "metadata": {},
          "execution_count": 3
        }
      ],
      "source": [
        "stocklist=['SUNPHARMA','DRREDDY','CIPLA','APOLLOHOSP','DIVISLAB','MAXHEALTH','LUPIN','AUROPHARMA','ALKEM','TORNTPHARM']\n",
        "tickers=np.array([i + '.NS' for i in stocklist])\n",
        "tickers"
      ]
    },
    {
      "cell_type": "code",
      "source": [
        "pip install yahoofinancials"
      ],
      "metadata": {
        "colab": {
          "base_uri": "https://localhost:8080/"
        },
        "id": "nrdkrkOfuJ60",
        "outputId": "a57615af-7778-4dcc-a5f3-40ccdb4f1fe6"
      },
      "execution_count": 5,
      "outputs": [
        {
          "output_type": "stream",
          "name": "stdout",
          "text": [
            "Collecting yahoofinancials\n",
            "  Downloading yahoofinancials-1.16.tar.gz (41 kB)\n",
            "\u001b[?25l     \u001b[90m━━━━━━━━━━━━━━━━━━━━━━━━━━━━━━━━━━━━━━━━\u001b[0m \u001b[32m0.0/41.6 kB\u001b[0m \u001b[31m?\u001b[0m eta \u001b[36m-:--:--\u001b[0m\r\u001b[2K     \u001b[90m━━━━━━━━━━━━━━━━━━━━━━━━━━━━━━━━━━━━━━━━\u001b[0m \u001b[32m41.6/41.6 kB\u001b[0m \u001b[31m1.9 MB/s\u001b[0m eta \u001b[36m0:00:00\u001b[0m\n",
            "\u001b[?25h  Preparing metadata (setup.py) ... \u001b[?25l\u001b[?25hdone\n",
            "Requirement already satisfied: pytz in /usr/local/lib/python3.10/dist-packages (from yahoofinancials) (2023.3.post1)\n",
            "Requirement already satisfied: requests>=2.26 in /usr/local/lib/python3.10/dist-packages (from yahoofinancials) (2.31.0)\n",
            "Requirement already satisfied: charset-normalizer<4,>=2 in /usr/local/lib/python3.10/dist-packages (from requests>=2.26->yahoofinancials) (3.2.0)\n",
            "Requirement already satisfied: idna<4,>=2.5 in /usr/local/lib/python3.10/dist-packages (from requests>=2.26->yahoofinancials) (3.4)\n",
            "Requirement already satisfied: urllib3<3,>=1.21.1 in /usr/local/lib/python3.10/dist-packages (from requests>=2.26->yahoofinancials) (2.0.4)\n",
            "Requirement already satisfied: certifi>=2017.4.17 in /usr/local/lib/python3.10/dist-packages (from requests>=2.26->yahoofinancials) (2023.7.22)\n",
            "Building wheels for collected packages: yahoofinancials\n",
            "  Building wheel for yahoofinancials (setup.py) ... \u001b[?25l\u001b[?25hdone\n",
            "  Created wheel for yahoofinancials: filename=yahoofinancials-1.16-py3-none-any.whl size=28709 sha256=88769c75d769fe5f172a69d7a731de0819368f4d8dafd8e92ff53e8cf59bd779\n",
            "  Stored in directory: /root/.cache/pip/wheels/fd/fe/c4/4b17989f30abf08d147a72cd1097ae0f6b1a1dd070f3abf726\n",
            "Successfully built yahoofinancials\n",
            "Installing collected packages: yahoofinancials\n",
            "Successfully installed yahoofinancials-1.16\n"
          ]
        }
      ]
    },
    {
      "cell_type": "code",
      "execution_count": 6,
      "metadata": {
        "id": "2po1-cKnm2Ze"
      },
      "outputs": [],
      "source": [
        "from yahoofinancials import YahooFinancials"
      ]
    },
    {
      "cell_type": "code",
      "execution_count": 7,
      "metadata": {
        "id": "N9OWwAjJm2Ze"
      },
      "outputs": [],
      "source": [
        "yahoo_financials = YahooFinancials(tickers)"
      ]
    },
    {
      "cell_type": "code",
      "execution_count": 8,
      "metadata": {
        "id": "2eCeYot4m2Ze"
      },
      "outputs": [],
      "source": [
        "test = yahoo_financials.get_historical_price_data(start_date='2019-07-1',\n",
        "                                                  end_date='2023-06-30',\n",
        "                                                  time_interval='daily')"
      ]
    },
    {
      "cell_type": "code",
      "execution_count": 9,
      "metadata": {
        "id": "ttkWjhcKm2Ze"
      },
      "outputs": [],
      "source": [
        "prices_df = pd.DataFrame({\n",
        "    a: {x['formatted_date']: x['close'] for x in test[a]['prices']} for a in tickers})"
      ]
    },
    {
      "cell_type": "code",
      "execution_count": 10,
      "metadata": {
        "colab": {
          "base_uri": "https://localhost:8080/",
          "height": 313
        },
        "id": "kiUIUS8Am2Ze",
        "outputId": "12482af3-475d-481d-f54c-3152d9f28488"
      },
      "outputs": [
        {
          "output_type": "execute_result",
          "data": {
            "text/plain": [
              "            SUNPHARMA.NS   DRREDDY.NS    CIPLA.NS  APOLLOHOSP.NS  DIVISLAB.NS  \\\n",
              "2019-07-01    405.350006  2654.850098  555.799988    1370.699951  1610.199951   \n",
              "2019-07-02    395.549988  2627.649902  555.349976    1356.050049  1617.250000   \n",
              "2019-07-03    395.700012  2596.699951  553.250000    1341.599976  1630.599976   \n",
              "2019-07-04    392.100006  2602.399902  551.549988    1325.449951  1619.800049   \n",
              "2019-07-05    375.250000  2600.949951  550.000000    1306.650024  1610.800049   \n",
              "\n",
              "            MAXHEALTH.NS    LUPIN.NS  AUROPHARMA.NS     ALKEM.NS  \\\n",
              "2019-07-01           NaN  772.150024     615.349976  1676.250000   \n",
              "2019-07-02           NaN  761.000000     610.900024  1710.750000   \n",
              "2019-07-03           NaN  752.700012     596.200012  1716.849976   \n",
              "2019-07-04           NaN  754.349976     605.099976  1726.400024   \n",
              "2019-07-05           NaN  735.700012     597.200012  1737.400024   \n",
              "\n",
              "            TORNTPHARM.NS  \n",
              "2019-07-01     776.200012  \n",
              "2019-07-02     776.099976  \n",
              "2019-07-03     776.424988  \n",
              "2019-07-04     772.575012  \n",
              "2019-07-05     762.575012  "
            ],
            "text/html": [
              "\n",
              "  <div id=\"df-398afd1c-f423-47e5-acd4-fec5b948f97b\" class=\"colab-df-container\">\n",
              "    <div>\n",
              "<style scoped>\n",
              "    .dataframe tbody tr th:only-of-type {\n",
              "        vertical-align: middle;\n",
              "    }\n",
              "\n",
              "    .dataframe tbody tr th {\n",
              "        vertical-align: top;\n",
              "    }\n",
              "\n",
              "    .dataframe thead th {\n",
              "        text-align: right;\n",
              "    }\n",
              "</style>\n",
              "<table border=\"1\" class=\"dataframe\">\n",
              "  <thead>\n",
              "    <tr style=\"text-align: right;\">\n",
              "      <th></th>\n",
              "      <th>SUNPHARMA.NS</th>\n",
              "      <th>DRREDDY.NS</th>\n",
              "      <th>CIPLA.NS</th>\n",
              "      <th>APOLLOHOSP.NS</th>\n",
              "      <th>DIVISLAB.NS</th>\n",
              "      <th>MAXHEALTH.NS</th>\n",
              "      <th>LUPIN.NS</th>\n",
              "      <th>AUROPHARMA.NS</th>\n",
              "      <th>ALKEM.NS</th>\n",
              "      <th>TORNTPHARM.NS</th>\n",
              "    </tr>\n",
              "  </thead>\n",
              "  <tbody>\n",
              "    <tr>\n",
              "      <th>2019-07-01</th>\n",
              "      <td>405.350006</td>\n",
              "      <td>2654.850098</td>\n",
              "      <td>555.799988</td>\n",
              "      <td>1370.699951</td>\n",
              "      <td>1610.199951</td>\n",
              "      <td>NaN</td>\n",
              "      <td>772.150024</td>\n",
              "      <td>615.349976</td>\n",
              "      <td>1676.250000</td>\n",
              "      <td>776.200012</td>\n",
              "    </tr>\n",
              "    <tr>\n",
              "      <th>2019-07-02</th>\n",
              "      <td>395.549988</td>\n",
              "      <td>2627.649902</td>\n",
              "      <td>555.349976</td>\n",
              "      <td>1356.050049</td>\n",
              "      <td>1617.250000</td>\n",
              "      <td>NaN</td>\n",
              "      <td>761.000000</td>\n",
              "      <td>610.900024</td>\n",
              "      <td>1710.750000</td>\n",
              "      <td>776.099976</td>\n",
              "    </tr>\n",
              "    <tr>\n",
              "      <th>2019-07-03</th>\n",
              "      <td>395.700012</td>\n",
              "      <td>2596.699951</td>\n",
              "      <td>553.250000</td>\n",
              "      <td>1341.599976</td>\n",
              "      <td>1630.599976</td>\n",
              "      <td>NaN</td>\n",
              "      <td>752.700012</td>\n",
              "      <td>596.200012</td>\n",
              "      <td>1716.849976</td>\n",
              "      <td>776.424988</td>\n",
              "    </tr>\n",
              "    <tr>\n",
              "      <th>2019-07-04</th>\n",
              "      <td>392.100006</td>\n",
              "      <td>2602.399902</td>\n",
              "      <td>551.549988</td>\n",
              "      <td>1325.449951</td>\n",
              "      <td>1619.800049</td>\n",
              "      <td>NaN</td>\n",
              "      <td>754.349976</td>\n",
              "      <td>605.099976</td>\n",
              "      <td>1726.400024</td>\n",
              "      <td>772.575012</td>\n",
              "    </tr>\n",
              "    <tr>\n",
              "      <th>2019-07-05</th>\n",
              "      <td>375.250000</td>\n",
              "      <td>2600.949951</td>\n",
              "      <td>550.000000</td>\n",
              "      <td>1306.650024</td>\n",
              "      <td>1610.800049</td>\n",
              "      <td>NaN</td>\n",
              "      <td>735.700012</td>\n",
              "      <td>597.200012</td>\n",
              "      <td>1737.400024</td>\n",
              "      <td>762.575012</td>\n",
              "    </tr>\n",
              "  </tbody>\n",
              "</table>\n",
              "</div>\n",
              "    <div class=\"colab-df-buttons\">\n",
              "\n",
              "  <div class=\"colab-df-container\">\n",
              "    <button class=\"colab-df-convert\" onclick=\"convertToInteractive('df-398afd1c-f423-47e5-acd4-fec5b948f97b')\"\n",
              "            title=\"Convert this dataframe to an interactive table.\"\n",
              "            style=\"display:none;\">\n",
              "\n",
              "  <svg xmlns=\"http://www.w3.org/2000/svg\" height=\"24px\" viewBox=\"0 -960 960 960\">\n",
              "    <path d=\"M120-120v-720h720v720H120Zm60-500h600v-160H180v160Zm220 220h160v-160H400v160Zm0 220h160v-160H400v160ZM180-400h160v-160H180v160Zm440 0h160v-160H620v160ZM180-180h160v-160H180v160Zm440 0h160v-160H620v160Z\"/>\n",
              "  </svg>\n",
              "    </button>\n",
              "\n",
              "  <style>\n",
              "    .colab-df-container {\n",
              "      display:flex;\n",
              "      gap: 12px;\n",
              "    }\n",
              "\n",
              "    .colab-df-convert {\n",
              "      background-color: #E8F0FE;\n",
              "      border: none;\n",
              "      border-radius: 50%;\n",
              "      cursor: pointer;\n",
              "      display: none;\n",
              "      fill: #1967D2;\n",
              "      height: 32px;\n",
              "      padding: 0 0 0 0;\n",
              "      width: 32px;\n",
              "    }\n",
              "\n",
              "    .colab-df-convert:hover {\n",
              "      background-color: #E2EBFA;\n",
              "      box-shadow: 0px 1px 2px rgba(60, 64, 67, 0.3), 0px 1px 3px 1px rgba(60, 64, 67, 0.15);\n",
              "      fill: #174EA6;\n",
              "    }\n",
              "\n",
              "    .colab-df-buttons div {\n",
              "      margin-bottom: 4px;\n",
              "    }\n",
              "\n",
              "    [theme=dark] .colab-df-convert {\n",
              "      background-color: #3B4455;\n",
              "      fill: #D2E3FC;\n",
              "    }\n",
              "\n",
              "    [theme=dark] .colab-df-convert:hover {\n",
              "      background-color: #434B5C;\n",
              "      box-shadow: 0px 1px 3px 1px rgba(0, 0, 0, 0.15);\n",
              "      filter: drop-shadow(0px 1px 2px rgba(0, 0, 0, 0.3));\n",
              "      fill: #FFFFFF;\n",
              "    }\n",
              "  </style>\n",
              "\n",
              "    <script>\n",
              "      const buttonEl =\n",
              "        document.querySelector('#df-398afd1c-f423-47e5-acd4-fec5b948f97b button.colab-df-convert');\n",
              "      buttonEl.style.display =\n",
              "        google.colab.kernel.accessAllowed ? 'block' : 'none';\n",
              "\n",
              "      async function convertToInteractive(key) {\n",
              "        const element = document.querySelector('#df-398afd1c-f423-47e5-acd4-fec5b948f97b');\n",
              "        const dataTable =\n",
              "          await google.colab.kernel.invokeFunction('convertToInteractive',\n",
              "                                                    [key], {});\n",
              "        if (!dataTable) return;\n",
              "\n",
              "        const docLinkHtml = 'Like what you see? Visit the ' +\n",
              "          '<a target=\"_blank\" href=https://colab.research.google.com/notebooks/data_table.ipynb>data table notebook</a>'\n",
              "          + ' to learn more about interactive tables.';\n",
              "        element.innerHTML = '';\n",
              "        dataTable['output_type'] = 'display_data';\n",
              "        await google.colab.output.renderOutput(dataTable, element);\n",
              "        const docLink = document.createElement('div');\n",
              "        docLink.innerHTML = docLinkHtml;\n",
              "        element.appendChild(docLink);\n",
              "      }\n",
              "    </script>\n",
              "  </div>\n",
              "\n",
              "\n",
              "<div id=\"df-2173ee61-e1f6-4701-98f4-709d2a916432\">\n",
              "  <button class=\"colab-df-quickchart\" onclick=\"quickchart('df-2173ee61-e1f6-4701-98f4-709d2a916432')\"\n",
              "            title=\"Suggest charts.\"\n",
              "            style=\"display:none;\">\n",
              "\n",
              "<svg xmlns=\"http://www.w3.org/2000/svg\" height=\"24px\"viewBox=\"0 0 24 24\"\n",
              "     width=\"24px\">\n",
              "    <g>\n",
              "        <path d=\"M19 3H5c-1.1 0-2 .9-2 2v14c0 1.1.9 2 2 2h14c1.1 0 2-.9 2-2V5c0-1.1-.9-2-2-2zM9 17H7v-7h2v7zm4 0h-2V7h2v10zm4 0h-2v-4h2v4z\"/>\n",
              "    </g>\n",
              "</svg>\n",
              "  </button>\n",
              "\n",
              "<style>\n",
              "  .colab-df-quickchart {\n",
              "      --bg-color: #E8F0FE;\n",
              "      --fill-color: #1967D2;\n",
              "      --hover-bg-color: #E2EBFA;\n",
              "      --hover-fill-color: #174EA6;\n",
              "      --disabled-fill-color: #AAA;\n",
              "      --disabled-bg-color: #DDD;\n",
              "  }\n",
              "\n",
              "  [theme=dark] .colab-df-quickchart {\n",
              "      --bg-color: #3B4455;\n",
              "      --fill-color: #D2E3FC;\n",
              "      --hover-bg-color: #434B5C;\n",
              "      --hover-fill-color: #FFFFFF;\n",
              "      --disabled-bg-color: #3B4455;\n",
              "      --disabled-fill-color: #666;\n",
              "  }\n",
              "\n",
              "  .colab-df-quickchart {\n",
              "    background-color: var(--bg-color);\n",
              "    border: none;\n",
              "    border-radius: 50%;\n",
              "    cursor: pointer;\n",
              "    display: none;\n",
              "    fill: var(--fill-color);\n",
              "    height: 32px;\n",
              "    padding: 0;\n",
              "    width: 32px;\n",
              "  }\n",
              "\n",
              "  .colab-df-quickchart:hover {\n",
              "    background-color: var(--hover-bg-color);\n",
              "    box-shadow: 0 1px 2px rgba(60, 64, 67, 0.3), 0 1px 3px 1px rgba(60, 64, 67, 0.15);\n",
              "    fill: var(--button-hover-fill-color);\n",
              "  }\n",
              "\n",
              "  .colab-df-quickchart-complete:disabled,\n",
              "  .colab-df-quickchart-complete:disabled:hover {\n",
              "    background-color: var(--disabled-bg-color);\n",
              "    fill: var(--disabled-fill-color);\n",
              "    box-shadow: none;\n",
              "  }\n",
              "\n",
              "  .colab-df-spinner {\n",
              "    border: 2px solid var(--fill-color);\n",
              "    border-color: transparent;\n",
              "    border-bottom-color: var(--fill-color);\n",
              "    animation:\n",
              "      spin 1s steps(1) infinite;\n",
              "  }\n",
              "\n",
              "  @keyframes spin {\n",
              "    0% {\n",
              "      border-color: transparent;\n",
              "      border-bottom-color: var(--fill-color);\n",
              "      border-left-color: var(--fill-color);\n",
              "    }\n",
              "    20% {\n",
              "      border-color: transparent;\n",
              "      border-left-color: var(--fill-color);\n",
              "      border-top-color: var(--fill-color);\n",
              "    }\n",
              "    30% {\n",
              "      border-color: transparent;\n",
              "      border-left-color: var(--fill-color);\n",
              "      border-top-color: var(--fill-color);\n",
              "      border-right-color: var(--fill-color);\n",
              "    }\n",
              "    40% {\n",
              "      border-color: transparent;\n",
              "      border-right-color: var(--fill-color);\n",
              "      border-top-color: var(--fill-color);\n",
              "    }\n",
              "    60% {\n",
              "      border-color: transparent;\n",
              "      border-right-color: var(--fill-color);\n",
              "    }\n",
              "    80% {\n",
              "      border-color: transparent;\n",
              "      border-right-color: var(--fill-color);\n",
              "      border-bottom-color: var(--fill-color);\n",
              "    }\n",
              "    90% {\n",
              "      border-color: transparent;\n",
              "      border-bottom-color: var(--fill-color);\n",
              "    }\n",
              "  }\n",
              "</style>\n",
              "\n",
              "  <script>\n",
              "    async function quickchart(key) {\n",
              "      const quickchartButtonEl =\n",
              "        document.querySelector('#' + key + ' button');\n",
              "      quickchartButtonEl.disabled = true;  // To prevent multiple clicks.\n",
              "      quickchartButtonEl.classList.add('colab-df-spinner');\n",
              "      try {\n",
              "        const charts = await google.colab.kernel.invokeFunction(\n",
              "            'suggestCharts', [key], {});\n",
              "      } catch (error) {\n",
              "        console.error('Error during call to suggestCharts:', error);\n",
              "      }\n",
              "      quickchartButtonEl.classList.remove('colab-df-spinner');\n",
              "      quickchartButtonEl.classList.add('colab-df-quickchart-complete');\n",
              "    }\n",
              "    (() => {\n",
              "      let quickchartButtonEl =\n",
              "        document.querySelector('#df-2173ee61-e1f6-4701-98f4-709d2a916432 button');\n",
              "      quickchartButtonEl.style.display =\n",
              "        google.colab.kernel.accessAllowed ? 'block' : 'none';\n",
              "    })();\n",
              "  </script>\n",
              "</div>\n",
              "    </div>\n",
              "  </div>\n"
            ]
          },
          "metadata": {},
          "execution_count": 10
        }
      ],
      "source": [
        "prices_df.head()"
      ]
    },
    {
      "cell_type": "code",
      "execution_count": 11,
      "metadata": {
        "id": "EdkFvMfUm2Zf"
      },
      "outputs": [],
      "source": [
        "prices_df.to_csv('HealthCare.csv')"
      ]
    },
    {
      "cell_type": "code",
      "execution_count": null,
      "metadata": {
        "id": "Pdk4x2Y2m2Zf"
      },
      "outputs": [],
      "source": []
    },
    {
      "cell_type": "code",
      "execution_count": null,
      "metadata": {
        "id": "nmWPDXjnm2Zf"
      },
      "outputs": [],
      "source": []
    }
  ],
  "metadata": {
    "kernelspec": {
      "display_name": "Python 3 (ipykernel)",
      "language": "python",
      "name": "python3"
    },
    "language_info": {
      "codemirror_mode": {
        "name": "ipython",
        "version": 3
      },
      "file_extension": ".py",
      "mimetype": "text/x-python",
      "name": "python",
      "nbconvert_exporter": "python",
      "pygments_lexer": "ipython3",
      "version": "3.9.13"
    },
    "colab": {
      "provenance": [],
      "include_colab_link": true
    }
  },
  "nbformat": 4,
  "nbformat_minor": 0
}
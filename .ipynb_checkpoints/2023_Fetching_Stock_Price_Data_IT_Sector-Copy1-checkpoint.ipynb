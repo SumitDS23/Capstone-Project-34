{
 "cells": [
  {
   "cell_type": "markdown",
   "metadata": {},
   "source": [
    "## Fetching the Stock Price Data for the Auto Sector"
   ]
  },
  {
   "cell_type": "code",
   "execution_count": 1,
   "metadata": {},
   "outputs": [],
   "source": [
    "# Load libraries\n",
    "import pandas as pd\n",
    "import pandas_datareader as dr\n",
    "import numpy as np"
   ]
  },
  {
   "cell_type": "code",
   "execution_count": 2,
   "metadata": {},
   "outputs": [],
   "source": [
    "#import numpy as np\n",
    "#tickers = np.array(['MARUTI.NS','M&M.NS','TATAMOTORS.NS','BAJAJ-AUTO.NS','EICHERMOT.NS','HEROMOTOCO.NS','TIINDIA.NS','ASHOKLEY.NS','BHARATFORG.NS', 'BALKRISIND.NS'])\n",
    "#tickers"
   ]
  },
  {
   "cell_type": "code",
   "execution_count": 3,
   "metadata": {},
   "outputs": [
    {
     "data": {
      "text/plain": [
       "array(['M&M.NS', 'MARUTI.NS', 'TATAMOTORS.NS', 'BAJAJ-AUTO.NS',\n",
       "       'EICHERMOT.NS', 'HEROMOTOCO.NS', 'TIINDIA.NS', 'TVSMOTOR.NS',\n",
       "       'ASHOKLEY.NS', 'BHARATFORG.NS'], dtype='<U13')"
      ]
     },
     "execution_count": 3,
     "metadata": {},
     "output_type": "execute_result"
    }
   ],
   "source": [
    "stocklist=['M&M','MARUTI','TATAMOTORS','BAJAJ-AUTO','EICHERMOT','HEROMOTOCO','TIINDIA','TVSMOTOR','ASHOKLEY','BHARATFORG']\n",
    "tickers=np.array([i + '.NS' for i in stocklist])\n",
    "tickers"
   ]
  },
  {
   "cell_type": "code",
   "execution_count": 6,
   "metadata": {},
   "outputs": [],
   "source": [
    "from yahoofinancials import YahooFinancials"
   ]
  },
  {
   "cell_type": "code",
   "execution_count": 7,
   "metadata": {},
   "outputs": [],
   "source": [
    "yahoo_financials = YahooFinancials(tickers)"
   ]
  },
  {
   "cell_type": "code",
   "execution_count": 12,
   "metadata": {},
   "outputs": [],
   "source": [
    "test = yahoo_financials.get_historical_price_data(start_date='2022-06-1', \n",
    "                                                  end_date='2023-07-30', \n",
    "                                                  time_interval='daily')"
   ]
  },
  {
   "cell_type": "code",
   "execution_count": 13,
   "metadata": {},
   "outputs": [],
   "source": [
    "prices_df = pd.DataFrame({\n",
    "    a: {x['formatted_date']: x['close'] for x in test[a]['prices']} for a in tickers})"
   ]
  },
  {
   "cell_type": "code",
   "execution_count": 14,
   "metadata": {},
   "outputs": [
    {
     "data": {
      "text/html": [
       "<div>\n",
       "<style scoped>\n",
       "    .dataframe tbody tr th:only-of-type {\n",
       "        vertical-align: middle;\n",
       "    }\n",
       "\n",
       "    .dataframe tbody tr th {\n",
       "        vertical-align: top;\n",
       "    }\n",
       "\n",
       "    .dataframe thead th {\n",
       "        text-align: right;\n",
       "    }\n",
       "</style>\n",
       "<table border=\"1\" class=\"dataframe\">\n",
       "  <thead>\n",
       "    <tr style=\"text-align: right;\">\n",
       "      <th></th>\n",
       "      <th>M&amp;M.NS</th>\n",
       "      <th>MARUTI.NS</th>\n",
       "      <th>TATAMOTORS.NS</th>\n",
       "      <th>BAJAJ-AUTO.NS</th>\n",
       "      <th>EICHERMOT.NS</th>\n",
       "      <th>HEROMOTOCO.NS</th>\n",
       "      <th>TIINDIA.NS</th>\n",
       "      <th>TVSMOTOR.NS</th>\n",
       "      <th>ASHOKLEY.NS</th>\n",
       "      <th>BHARATFORG.NS</th>\n",
       "    </tr>\n",
       "  </thead>\n",
       "  <tbody>\n",
       "    <tr>\n",
       "      <th>2022-06-01</th>\n",
       "      <td>1047.349976</td>\n",
       "      <td>7939.399902</td>\n",
       "      <td>444.600006</td>\n",
       "      <td>3720.100098</td>\n",
       "      <td>2771.699951</td>\n",
       "      <td>2757.600098</td>\n",
       "      <td>1599.949951</td>\n",
       "      <td>737.200012</td>\n",
       "      <td>139.899994</td>\n",
       "      <td>694.250000</td>\n",
       "    </tr>\n",
       "    <tr>\n",
       "      <th>2022-06-02</th>\n",
       "      <td>1044.550049</td>\n",
       "      <td>7925.399902</td>\n",
       "      <td>439.149994</td>\n",
       "      <td>3688.699951</td>\n",
       "      <td>2723.550049</td>\n",
       "      <td>2663.100098</td>\n",
       "      <td>1580.000000</td>\n",
       "      <td>738.750000</td>\n",
       "      <td>143.500000</td>\n",
       "      <td>684.799988</td>\n",
       "    </tr>\n",
       "    <tr>\n",
       "      <th>2022-06-03</th>\n",
       "      <td>1028.650024</td>\n",
       "      <td>7705.049805</td>\n",
       "      <td>431.899994</td>\n",
       "      <td>3672.699951</td>\n",
       "      <td>2685.250000</td>\n",
       "      <td>2583.750000</td>\n",
       "      <td>1566.599976</td>\n",
       "      <td>730.299988</td>\n",
       "      <td>139.500000</td>\n",
       "      <td>659.000000</td>\n",
       "    </tr>\n",
       "    <tr>\n",
       "      <th>2022-06-06</th>\n",
       "      <td>1035.949951</td>\n",
       "      <td>7710.549805</td>\n",
       "      <td>432.350006</td>\n",
       "      <td>3817.000000</td>\n",
       "      <td>2653.100098</td>\n",
       "      <td>2540.750000</td>\n",
       "      <td>1566.250000</td>\n",
       "      <td>728.700012</td>\n",
       "      <td>138.399994</td>\n",
       "      <td>649.099976</td>\n",
       "    </tr>\n",
       "    <tr>\n",
       "      <th>2022-06-07</th>\n",
       "      <td>1042.550049</td>\n",
       "      <td>7809.399902</td>\n",
       "      <td>435.850006</td>\n",
       "      <td>3834.100098</td>\n",
       "      <td>2647.899902</td>\n",
       "      <td>2570.850098</td>\n",
       "      <td>1550.800049</td>\n",
       "      <td>744.049988</td>\n",
       "      <td>139.750000</td>\n",
       "      <td>653.500000</td>\n",
       "    </tr>\n",
       "  </tbody>\n",
       "</table>\n",
       "</div>"
      ],
      "text/plain": [
       "                 M&M.NS    MARUTI.NS  TATAMOTORS.NS  BAJAJ-AUTO.NS  \\\n",
       "2022-06-01  1047.349976  7939.399902     444.600006    3720.100098   \n",
       "2022-06-02  1044.550049  7925.399902     439.149994    3688.699951   \n",
       "2022-06-03  1028.650024  7705.049805     431.899994    3672.699951   \n",
       "2022-06-06  1035.949951  7710.549805     432.350006    3817.000000   \n",
       "2022-06-07  1042.550049  7809.399902     435.850006    3834.100098   \n",
       "\n",
       "            EICHERMOT.NS  HEROMOTOCO.NS   TIINDIA.NS  TVSMOTOR.NS  \\\n",
       "2022-06-01   2771.699951    2757.600098  1599.949951   737.200012   \n",
       "2022-06-02   2723.550049    2663.100098  1580.000000   738.750000   \n",
       "2022-06-03   2685.250000    2583.750000  1566.599976   730.299988   \n",
       "2022-06-06   2653.100098    2540.750000  1566.250000   728.700012   \n",
       "2022-06-07   2647.899902    2570.850098  1550.800049   744.049988   \n",
       "\n",
       "            ASHOKLEY.NS  BHARATFORG.NS  \n",
       "2022-06-01   139.899994     694.250000  \n",
       "2022-06-02   143.500000     684.799988  \n",
       "2022-06-03   139.500000     659.000000  \n",
       "2022-06-06   138.399994     649.099976  \n",
       "2022-06-07   139.750000     653.500000  "
      ]
     },
     "execution_count": 14,
     "metadata": {},
     "output_type": "execute_result"
    }
   ],
   "source": [
    "prices_df.head()"
   ]
  },
  {
   "cell_type": "code",
   "execution_count": 11,
   "metadata": {},
   "outputs": [],
   "source": [
    "prices_df.to_csv('auto.csv')"
   ]
  },
  {
   "cell_type": "code",
   "execution_count": null,
   "metadata": {},
   "outputs": [],
   "source": []
  },
  {
   "cell_type": "code",
   "execution_count": null,
   "metadata": {},
   "outputs": [],
   "source": []
  }
 ],
 "metadata": {
  "kernelspec": {
   "display_name": "Python 3 (ipykernel)",
   "language": "python",
   "name": "python3"
  },
  "language_info": {
   "codemirror_mode": {
    "name": "ipython",
    "version": 3
   },
   "file_extension": ".py",
   "mimetype": "text/x-python",
   "name": "python",
   "nbconvert_exporter": "python",
   "pygments_lexer": "ipython3",
   "version": "3.9.13"
  }
 },
 "nbformat": 4,
 "nbformat_minor": 2
}

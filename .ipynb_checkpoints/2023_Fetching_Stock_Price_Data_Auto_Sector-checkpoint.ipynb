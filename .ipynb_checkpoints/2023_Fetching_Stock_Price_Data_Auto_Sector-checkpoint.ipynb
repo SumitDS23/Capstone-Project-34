{
 "cells": [
  {
   "cell_type": "markdown",
   "metadata": {},
   "source": [
    "## Fetching the Stock Price Data for the Auto Sector"
   ]
  },
  {
   "cell_type": "code",
   "execution_count": 10,
   "metadata": {},
   "outputs": [],
   "source": [
    "# Load libraries\n",
    "import pandas as pd\n",
    "import pandas_datareader as dr\n",
    "import numpy as np"
   ]
  },
  {
   "cell_type": "code",
   "execution_count": 11,
   "metadata": {},
   "outputs": [],
   "source": [
    "#import numpy as np\n",
    "#tickers = np.array(['MARUTI.NS','M&M.NS','TATAMOTORS.NS','BAJAJ-AUTO.NS','EICHERMOT.NS','HEROMOTOCO.NS','TIINDIA.NS','ASHOKLEY.NS','BHARATFORG.NS', 'BALKRISIND.NS'])\n",
    "#tickers"
   ]
  },
  {
   "cell_type": "code",
   "execution_count": 12,
   "metadata": {},
   "outputs": [
    {
     "data": {
      "text/plain": [
       "array(['M&M.NS', 'MARUTI.NS', 'TATAMOTORS.NS', 'BAJAJ-AUTO.NS',\n",
       "       'EICHERMOT.NS', 'HEROMOTOCO.NS', 'TIINDIA.NS', 'TVSMOTOR.NS',\n",
       "       'ASHOKLEY.NS', 'BHARATFORG.NS'], dtype='<U13')"
      ]
     },
     "execution_count": 12,
     "metadata": {},
     "output_type": "execute_result"
    }
   ],
   "source": [
    "stocklist=['M&M','MARUTI','TATAMOTORS','BAJAJ-AUTO','EICHERMOT','HEROMOTOCO','TIINDIA','TVSMOTOR','ASHOKLEY','BHARATFORG']\n",
    "tickers=np.array([i + '.NS' for i in stocklist])\n",
    "tickers"
   ]
  },
  {
   "cell_type": "code",
   "execution_count": 13,
   "metadata": {},
   "outputs": [],
   "source": [
    "from yahoofinancials import YahooFinancials"
   ]
  },
  {
   "cell_type": "code",
   "execution_count": 14,
   "metadata": {},
   "outputs": [],
   "source": [
    "yahoo_financials = YahooFinancials(tickers)"
   ]
  },
  {
   "cell_type": "code",
   "execution_count": 15,
   "metadata": {},
   "outputs": [],
   "source": [
    "test = yahoo_financials.get_historical_price_data(start_date='2019-07-1', \n",
    "                                                  end_date='2023-06-30', \n",
    "                                                  time_interval='daily')"
   ]
  },
  {
   "cell_type": "code",
   "execution_count": 16,
   "metadata": {},
   "outputs": [],
   "source": [
    "prices_df = pd.DataFrame({\n",
    "    a: {x['formatted_date']: x['close'] for x in test[a]['prices']} for a in tickers})"
   ]
  },
  {
   "cell_type": "code",
   "execution_count": 17,
   "metadata": {},
   "outputs": [
    {
     "data": {
      "text/html": [
       "<div>\n",
       "<style scoped>\n",
       "    .dataframe tbody tr th:only-of-type {\n",
       "        vertical-align: middle;\n",
       "    }\n",
       "\n",
       "    .dataframe tbody tr th {\n",
       "        vertical-align: top;\n",
       "    }\n",
       "\n",
       "    .dataframe thead th {\n",
       "        text-align: right;\n",
       "    }\n",
       "</style>\n",
       "<table border=\"1\" class=\"dataframe\">\n",
       "  <thead>\n",
       "    <tr style=\"text-align: right;\">\n",
       "      <th></th>\n",
       "      <th>M&amp;M.NS</th>\n",
       "      <th>MARUTI.NS</th>\n",
       "      <th>TATAMOTORS.NS</th>\n",
       "      <th>BAJAJ-AUTO.NS</th>\n",
       "      <th>EICHERMOT.NS</th>\n",
       "      <th>HEROMOTOCO.NS</th>\n",
       "      <th>TIINDIA.NS</th>\n",
       "      <th>TVSMOTOR.NS</th>\n",
       "      <th>ASHOKLEY.NS</th>\n",
       "      <th>BHARATFORG.NS</th>\n",
       "    </tr>\n",
       "  </thead>\n",
       "  <tbody>\n",
       "    <tr>\n",
       "      <th>2019-07-01</th>\n",
       "      <td>660.000000</td>\n",
       "      <td>6507.850098</td>\n",
       "      <td>168.000000</td>\n",
       "      <td>2911.949951</td>\n",
       "      <td>1962.530029</td>\n",
       "      <td>2616.500000</td>\n",
       "      <td>387.500000</td>\n",
       "      <td>435.549988</td>\n",
       "      <td>87.099998</td>\n",
       "      <td>457.600006</td>\n",
       "    </tr>\n",
       "    <tr>\n",
       "      <th>2019-07-02</th>\n",
       "      <td>666.250000</td>\n",
       "      <td>6560.000000</td>\n",
       "      <td>163.750000</td>\n",
       "      <td>2883.550049</td>\n",
       "      <td>2013.744995</td>\n",
       "      <td>2597.050049</td>\n",
       "      <td>389.600006</td>\n",
       "      <td>430.500000</td>\n",
       "      <td>87.849998</td>\n",
       "      <td>460.100006</td>\n",
       "    </tr>\n",
       "    <tr>\n",
       "      <th>2019-07-03</th>\n",
       "      <td>669.250000</td>\n",
       "      <td>6533.799805</td>\n",
       "      <td>162.300003</td>\n",
       "      <td>2897.750000</td>\n",
       "      <td>1965.010010</td>\n",
       "      <td>2587.500000</td>\n",
       "      <td>387.200012</td>\n",
       "      <td>435.000000</td>\n",
       "      <td>90.300003</td>\n",
       "      <td>462.750000</td>\n",
       "    </tr>\n",
       "    <tr>\n",
       "      <th>2019-07-04</th>\n",
       "      <td>672.150024</td>\n",
       "      <td>6544.450195</td>\n",
       "      <td>165.199997</td>\n",
       "      <td>2894.800049</td>\n",
       "      <td>1982.540039</td>\n",
       "      <td>2606.149902</td>\n",
       "      <td>386.700012</td>\n",
       "      <td>432.350006</td>\n",
       "      <td>89.949997</td>\n",
       "      <td>475.950012</td>\n",
       "    </tr>\n",
       "    <tr>\n",
       "      <th>2019-07-05</th>\n",
       "      <td>642.049988</td>\n",
       "      <td>6360.000000</td>\n",
       "      <td>160.199997</td>\n",
       "      <td>2842.550049</td>\n",
       "      <td>1964.510010</td>\n",
       "      <td>2512.300049</td>\n",
       "      <td>386.899994</td>\n",
       "      <td>424.299988</td>\n",
       "      <td>87.050003</td>\n",
       "      <td>458.100006</td>\n",
       "    </tr>\n",
       "  </tbody>\n",
       "</table>\n",
       "</div>"
      ],
      "text/plain": [
       "                M&M.NS    MARUTI.NS  TATAMOTORS.NS  BAJAJ-AUTO.NS  \\\n",
       "2019-07-01  660.000000  6507.850098     168.000000    2911.949951   \n",
       "2019-07-02  666.250000  6560.000000     163.750000    2883.550049   \n",
       "2019-07-03  669.250000  6533.799805     162.300003    2897.750000   \n",
       "2019-07-04  672.150024  6544.450195     165.199997    2894.800049   \n",
       "2019-07-05  642.049988  6360.000000     160.199997    2842.550049   \n",
       "\n",
       "            EICHERMOT.NS  HEROMOTOCO.NS  TIINDIA.NS  TVSMOTOR.NS  ASHOKLEY.NS  \\\n",
       "2019-07-01   1962.530029    2616.500000  387.500000   435.549988    87.099998   \n",
       "2019-07-02   2013.744995    2597.050049  389.600006   430.500000    87.849998   \n",
       "2019-07-03   1965.010010    2587.500000  387.200012   435.000000    90.300003   \n",
       "2019-07-04   1982.540039    2606.149902  386.700012   432.350006    89.949997   \n",
       "2019-07-05   1964.510010    2512.300049  386.899994   424.299988    87.050003   \n",
       "\n",
       "            BHARATFORG.NS  \n",
       "2019-07-01     457.600006  \n",
       "2019-07-02     460.100006  \n",
       "2019-07-03     462.750000  \n",
       "2019-07-04     475.950012  \n",
       "2019-07-05     458.100006  "
      ]
     },
     "execution_count": 17,
     "metadata": {},
     "output_type": "execute_result"
    }
   ],
   "source": [
    "prices_df.head()"
   ]
  },
  {
   "cell_type": "code",
   "execution_count": 18,
   "metadata": {},
   "outputs": [],
   "source": [
    "prices_df.to_csv('auto.csv')"
   ]
  },
  {
   "cell_type": "code",
   "execution_count": null,
   "metadata": {},
   "outputs": [],
   "source": []
  },
  {
   "cell_type": "code",
   "execution_count": null,
   "metadata": {},
   "outputs": [],
   "source": []
  }
 ],
 "metadata": {
  "kernelspec": {
   "display_name": "Python 3 (ipykernel)",
   "language": "python",
   "name": "python3"
  },
  "language_info": {
   "codemirror_mode": {
    "name": "ipython",
    "version": 3
   },
   "file_extension": ".py",
   "mimetype": "text/x-python",
   "name": "python",
   "nbconvert_exporter": "python",
   "pygments_lexer": "ipython3",
   "version": "3.9.13"
  }
 },
 "nbformat": 4,
 "nbformat_minor": 2
}

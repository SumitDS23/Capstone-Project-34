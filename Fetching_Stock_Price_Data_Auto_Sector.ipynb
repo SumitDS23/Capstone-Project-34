{
 "cells": [
  {
   "cell_type": "markdown",
   "metadata": {},
   "source": [
    "## Fetching the Stock Price Data for the Auto Sector"
   ]
  },
  {
   "cell_type": "code",
   "execution_count": 9,
   "metadata": {},
   "outputs": [],
   "source": [
    "# Load libraries\n",
    "import pandas as pd\n",
    "import pandas_datareader as dr"
   ]
  },
  {
   "cell_type": "code",
   "execution_count": 10,
   "metadata": {},
   "outputs": [
    {
     "data": {
      "text/plain": [
       "array(['MARUTI.NS', 'M&M.NS', 'TATAMOTORS.NS', 'BAJAJ-AUTO.NS',\n",
       "       'EICHERMOT.NS', 'HEROMOTOCO.NS', 'TIINDIA.NS', 'ASHOKLEY.NS',\n",
       "       'BHARATFORG.NS', 'BALKRISIND.NS'], dtype='<U13')"
      ]
     },
     "execution_count": 10,
     "metadata": {},
     "output_type": "execute_result"
    }
   ],
   "source": [
    "import numpy as np\n",
    "tickers = np.array(['MARUTI.NS','M&M.NS','TATAMOTORS.NS','BAJAJ-AUTO.NS','EICHERMOT.NS','HEROMOTOCO.NS','TIINDIA.NS','ASHOKLEY.NS','BHARATFORG.NS', 'BALKRISIND.NS'])\n",
    "tickers"
   ]
  },
  {
   "cell_type": "code",
   "execution_count": 11,
   "metadata": {},
   "outputs": [],
   "source": [
    "from yahoofinancials import YahooFinancials"
   ]
  },
  {
   "cell_type": "code",
   "execution_count": 12,
   "metadata": {},
   "outputs": [],
   "source": [
    "yahoo_financials = YahooFinancials(tickers)"
   ]
  },
  {
   "cell_type": "code",
   "execution_count": 13,
   "metadata": {},
   "outputs": [],
   "source": [
    "data = yahoo_financials.get_historical_price_data(start_date='2016-01-01', \n",
    "                                                  end_date='2021-12-31', \n",
    "                                                  time_interval='daily')"
   ]
  },
  {
   "cell_type": "code",
   "execution_count": 14,
   "metadata": {},
   "outputs": [],
   "source": [
    "prices_df = pd.DataFrame({\n",
    "    a: {x['formatted_date']: x['close'] for x in data[a]['prices']} for a in tickers})"
   ]
  },
  {
   "cell_type": "code",
   "execution_count": 15,
   "metadata": {},
   "outputs": [
    {
     "data": {
      "text/html": [
       "<div>\n",
       "<style scoped>\n",
       "    .dataframe tbody tr th:only-of-type {\n",
       "        vertical-align: middle;\n",
       "    }\n",
       "\n",
       "    .dataframe tbody tr th {\n",
       "        vertical-align: top;\n",
       "    }\n",
       "\n",
       "    .dataframe thead th {\n",
       "        text-align: right;\n",
       "    }\n",
       "</style>\n",
       "<table border=\"1\" class=\"dataframe\">\n",
       "  <thead>\n",
       "    <tr style=\"text-align: right;\">\n",
       "      <th></th>\n",
       "      <th>MARUTI.NS</th>\n",
       "      <th>M&amp;M.NS</th>\n",
       "      <th>TATAMOTORS.NS</th>\n",
       "      <th>BAJAJ-AUTO.NS</th>\n",
       "      <th>EICHERMOT.NS</th>\n",
       "      <th>HEROMOTOCO.NS</th>\n",
       "      <th>TIINDIA.NS</th>\n",
       "      <th>ASHOKLEY.NS</th>\n",
       "      <th>BHARATFORG.NS</th>\n",
       "      <th>BALKRISIND.NS</th>\n",
       "    </tr>\n",
       "  </thead>\n",
       "  <tbody>\n",
       "    <tr>\n",
       "      <th>2016-01-01</th>\n",
       "      <td>4638.500000</td>\n",
       "      <td>632.674988</td>\n",
       "      <td>401.899994</td>\n",
       "      <td>2518.000000</td>\n",
       "      <td>1737.084961</td>\n",
       "      <td>2686.050049</td>\n",
       "      <td>NaN</td>\n",
       "      <td>88.800003</td>\n",
       "      <td>443.850006</td>\n",
       "      <td>325.075012</td>\n",
       "    </tr>\n",
       "    <tr>\n",
       "      <th>2016-01-04</th>\n",
       "      <td>4580.649902</td>\n",
       "      <td>621.250000</td>\n",
       "      <td>377.049988</td>\n",
       "      <td>2483.350098</td>\n",
       "      <td>1749.530029</td>\n",
       "      <td>2637.800049</td>\n",
       "      <td>NaN</td>\n",
       "      <td>92.000000</td>\n",
       "      <td>435.450012</td>\n",
       "      <td>326.024994</td>\n",
       "    </tr>\n",
       "    <tr>\n",
       "      <th>2016-01-05</th>\n",
       "      <td>4566.950195</td>\n",
       "      <td>624.599976</td>\n",
       "      <td>374.450012</td>\n",
       "      <td>2502.350098</td>\n",
       "      <td>1715.989990</td>\n",
       "      <td>2616.850098</td>\n",
       "      <td>NaN</td>\n",
       "      <td>93.099998</td>\n",
       "      <td>428.725006</td>\n",
       "      <td>326.174988</td>\n",
       "    </tr>\n",
       "    <tr>\n",
       "      <th>2016-01-06</th>\n",
       "      <td>4480.799805</td>\n",
       "      <td>613.075012</td>\n",
       "      <td>365.899994</td>\n",
       "      <td>2485.500000</td>\n",
       "      <td>1752.505005</td>\n",
       "      <td>2578.199951</td>\n",
       "      <td>NaN</td>\n",
       "      <td>92.699997</td>\n",
       "      <td>438.174988</td>\n",
       "      <td>326.674988</td>\n",
       "    </tr>\n",
       "    <tr>\n",
       "      <th>2016-01-07</th>\n",
       "      <td>4267.899902</td>\n",
       "      <td>598.724976</td>\n",
       "      <td>343.549988</td>\n",
       "      <td>2419.250000</td>\n",
       "      <td>1703.564941</td>\n",
       "      <td>2520.100098</td>\n",
       "      <td>NaN</td>\n",
       "      <td>91.349998</td>\n",
       "      <td>412.325012</td>\n",
       "      <td>326.274994</td>\n",
       "    </tr>\n",
       "  </tbody>\n",
       "</table>\n",
       "</div>"
      ],
      "text/plain": [
       "              MARUTI.NS      M&M.NS  TATAMOTORS.NS  BAJAJ-AUTO.NS  \\\n",
       "2016-01-01  4638.500000  632.674988     401.899994    2518.000000   \n",
       "2016-01-04  4580.649902  621.250000     377.049988    2483.350098   \n",
       "2016-01-05  4566.950195  624.599976     374.450012    2502.350098   \n",
       "2016-01-06  4480.799805  613.075012     365.899994    2485.500000   \n",
       "2016-01-07  4267.899902  598.724976     343.549988    2419.250000   \n",
       "\n",
       "            EICHERMOT.NS  HEROMOTOCO.NS  TIINDIA.NS  ASHOKLEY.NS  \\\n",
       "2016-01-01   1737.084961    2686.050049         NaN    88.800003   \n",
       "2016-01-04   1749.530029    2637.800049         NaN    92.000000   \n",
       "2016-01-05   1715.989990    2616.850098         NaN    93.099998   \n",
       "2016-01-06   1752.505005    2578.199951         NaN    92.699997   \n",
       "2016-01-07   1703.564941    2520.100098         NaN    91.349998   \n",
       "\n",
       "            BHARATFORG.NS  BALKRISIND.NS  \n",
       "2016-01-01     443.850006     325.075012  \n",
       "2016-01-04     435.450012     326.024994  \n",
       "2016-01-05     428.725006     326.174988  \n",
       "2016-01-06     438.174988     326.674988  \n",
       "2016-01-07     412.325012     326.274994  "
      ]
     },
     "execution_count": 15,
     "metadata": {},
     "output_type": "execute_result"
    }
   ],
   "source": [
    "prices_df.head()"
   ]
  },
  {
   "cell_type": "code",
   "execution_count": 16,
   "metadata": {},
   "outputs": [],
   "source": [
    "prices_df.to_csv('auto.csv')"
   ]
  },
  {
   "cell_type": "code",
   "execution_count": null,
   "metadata": {},
   "outputs": [],
   "source": []
  },
  {
   "cell_type": "code",
   "execution_count": null,
   "metadata": {},
   "outputs": [],
   "source": []
  }
 ],
 "metadata": {
  "kernelspec": {
   "display_name": "Python 3 (ipykernel)",
   "language": "python",
   "name": "python3"
  },
  "language_info": {
   "codemirror_mode": {
    "name": "ipython",
    "version": 3
   },
   "file_extension": ".py",
   "mimetype": "text/x-python",
   "name": "python",
   "nbconvert_exporter": "python",
   "pygments_lexer": "ipython3",
   "version": "3.9.13"
  }
 },
 "nbformat": 4,
 "nbformat_minor": 2
}

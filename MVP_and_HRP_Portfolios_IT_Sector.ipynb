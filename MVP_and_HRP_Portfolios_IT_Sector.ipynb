{
  "cells": [
    {
      "cell_type": "markdown",
      "metadata": {
        "id": "view-in-github",
        "colab_type": "text"
      },
      "source": [
        "<a href=\"https://colab.research.google.com/github/SumitDS23/Capstone-Project-34/blob/main/MVP_and_HRP_Portfolios_IT_Sector.ipynb\" target=\"_parent\"><img src=\"https://colab.research.google.com/assets/colab-badge.svg\" alt=\"Open In Colab\"/></a>"
      ]
    },
    {
      "cell_type": "markdown",
      "metadata": {
        "_cell_guid": "83708667-4fdc-1563-7b3a-06b6575d2865",
        "id": "pAfEm6YrNLau"
      },
      "source": [
        "# MVP and HRP Portfolio Design for Auto Sector Stocks\n"
      ]
    },
    {
      "cell_type": "markdown",
      "metadata": {
        "id": "l9-t6w09NLax"
      },
      "source": [
        "<a id='1'></a>\n",
        "## 1. Loading the Data and Python Libraries"
      ]
    },
    {
      "cell_type": "markdown",
      "metadata": {
        "id": "V7MrR_kcNLay"
      },
      "source": [
        "<a id='1.1'></a>\n",
        "### 1.1. Loading the Python Libraries"
      ]
    },
    {
      "cell_type": "code",
      "execution_count": 1,
      "metadata": {
        "_cell_guid": "5d8fee34-f454-2642-8b06-ed719f0317e1",
        "id": "HF8RvBuRNLay"
      },
      "outputs": [],
      "source": [
        "# Load libraries\n",
        "import numpy as np\n",
        "import pandas as pd\n",
        "import matplotlib.pyplot as plt\n",
        "from pandas import read_csv, set_option\n",
        "from pandas.plotting import scatter_matrix\n",
        "import seaborn as sns\n",
        "from sklearn.preprocessing import StandardScaler\n",
        "from datetime import date\n",
        "\n",
        "#Import Model Packages\n",
        "import scipy.cluster.hierarchy as sch\n",
        "from sklearn.cluster import AgglomerativeClustering\n",
        "from scipy.cluster.hierarchy import fcluster\n",
        "from scipy.cluster.hierarchy import dendrogram, linkage, cophenet\n",
        "from sklearn.metrics import adjusted_mutual_info_score\n",
        "from sklearn import cluster, covariance, manifold\n",
        "\n",
        "#Package for optimization of mean variance optimization\n",
        "import cvxopt as opt\n",
        "from cvxopt import blas, solvers\n"
      ]
    },
    {
      "cell_type": "markdown",
      "metadata": {
        "id": "Q-AhCFz2NLaz"
      },
      "source": [
        "<a id='1.2'></a>\n",
        "### 1.2. Loading the Data"
      ]
    },
    {
      "cell_type": "code",
      "execution_count": 2,
      "metadata": {
        "id": "mx6CcITNNLa0"
      },
      "outputs": [],
      "source": [
        "# load dataset\n",
        "dataset = read_csv('IT.csv',index_col=0)"
      ]
    },
    {
      "cell_type": "code",
      "execution_count": 3,
      "metadata": {
        "id": "tBI7xYHKNLa0"
      },
      "outputs": [],
      "source": [
        "#Diable the warnings\n",
        "import warnings\n",
        "warnings.filterwarnings('ignore')"
      ]
    },
    {
      "cell_type": "code",
      "execution_count": 4,
      "metadata": {
        "colab": {
          "base_uri": "https://localhost:8080/"
        },
        "id": "3FWZwQIqNLa1",
        "outputId": "05527423-7427-4574-b9ce-14d23174e32b"
      },
      "outputs": [
        {
          "output_type": "execute_result",
          "data": {
            "text/plain": [
              "pandas.core.frame.DataFrame"
            ]
          },
          "metadata": {},
          "execution_count": 4
        }
      ],
      "source": [
        "type(dataset)"
      ]
    },
    {
      "cell_type": "markdown",
      "metadata": {
        "_cell_guid": "df6a4523-b385-69ee-c933-592826d81431",
        "id": "K_vEqFF9NLa1"
      },
      "source": [
        "<a id='2'></a>\n",
        "## 2. Exploratory Data Analysis"
      ]
    },
    {
      "cell_type": "code",
      "execution_count": null,
      "metadata": {
        "_cell_guid": "52f85dc2-0f91-3c50-400e-ddc38bea966b",
        "colab": {
          "base_uri": "https://localhost:8080/"
        },
        "id": "hawA55s9NLa1",
        "outputId": "7ebe7a48-af3d-4ed3-e958-c3b12bec6119"
      },
      "outputs": [
        {
          "output_type": "execute_result",
          "data": {
            "text/plain": [
              "(991, 10)"
            ]
          },
          "metadata": {},
          "execution_count": 5
        }
      ],
      "source": [
        "# shape\n",
        "dataset.shape"
      ]
    },
    {
      "cell_type": "code",
      "execution_count": null,
      "metadata": {
        "colab": {
          "base_uri": "https://localhost:8080/",
          "height": 206
        },
        "id": "hioW0r9uNLa2",
        "outputId": "d709c47d-fb32-435f-eec1-dd0842b766b8"
      },
      "outputs": [
        {
          "output_type": "execute_result",
          "data": {
            "text/plain": [
              "               INFY.NS       TCS.NS    WIPRO.NS    TECHM.NS  HCLTECH.NS      LTIM.NS  \\\n",
              "2019-07-01  731.299988  2239.550049  282.000000  704.650024  524.549988  1841.250000   \n",
              "2019-07-02  740.000000  2252.100098  284.250000  711.650024  530.000000  1764.699951   \n",
              "2019-07-03  731.299988  2237.649902  282.850006  701.099976  525.599976  1735.199951   \n",
              "2019-07-04  733.799988  2242.649902  283.850006  700.599976  520.375000  1655.800049   \n",
              "2019-07-05  718.000000  2163.100098  271.850006  681.099976  508.200012  1665.699951   \n",
              "\n",
              "            PERSISTENT.NS   COFORGE.NS  MPHASIS.NS        LT.NS  \n",
              "2019-07-01     616.150024  1350.699951  990.700012  1556.650024  \n",
              "2019-07-02     611.700012  1345.849976  972.650024  1563.849976  \n",
              "2019-07-03     615.799988  1333.650024  988.950012  1578.050049  \n",
              "2019-07-04     620.599976  1338.150024  994.400024  1571.699951  \n",
              "2019-07-05     627.200012  1323.500000  981.950012  1558.349976  "
            ],
            "text/html": [
              "\n",
              "  <div id=\"df-85c01da8-9db0-42d6-b780-8e9b483d743f\" class=\"colab-df-container\">\n",
              "    <div>\n",
              "<style scoped>\n",
              "    .dataframe tbody tr th:only-of-type {\n",
              "        vertical-align: middle;\n",
              "    }\n",
              "\n",
              "    .dataframe tbody tr th {\n",
              "        vertical-align: top;\n",
              "    }\n",
              "\n",
              "    .dataframe thead th {\n",
              "        text-align: right;\n",
              "    }\n",
              "</style>\n",
              "<table border=\"1\" class=\"dataframe\">\n",
              "  <thead>\n",
              "    <tr style=\"text-align: right;\">\n",
              "      <th></th>\n",
              "      <th>INFY.NS</th>\n",
              "      <th>TCS.NS</th>\n",
              "      <th>WIPRO.NS</th>\n",
              "      <th>TECHM.NS</th>\n",
              "      <th>HCLTECH.NS</th>\n",
              "      <th>LTIM.NS</th>\n",
              "      <th>PERSISTENT.NS</th>\n",
              "      <th>COFORGE.NS</th>\n",
              "      <th>MPHASIS.NS</th>\n",
              "      <th>LT.NS</th>\n",
              "    </tr>\n",
              "  </thead>\n",
              "  <tbody>\n",
              "    <tr>\n",
              "      <th>2019-07-01</th>\n",
              "      <td>731.299988</td>\n",
              "      <td>2239.550049</td>\n",
              "      <td>282.000000</td>\n",
              "      <td>704.650024</td>\n",
              "      <td>524.549988</td>\n",
              "      <td>1841.250000</td>\n",
              "      <td>616.150024</td>\n",
              "      <td>1350.699951</td>\n",
              "      <td>990.700012</td>\n",
              "      <td>1556.650024</td>\n",
              "    </tr>\n",
              "    <tr>\n",
              "      <th>2019-07-02</th>\n",
              "      <td>740.000000</td>\n",
              "      <td>2252.100098</td>\n",
              "      <td>284.250000</td>\n",
              "      <td>711.650024</td>\n",
              "      <td>530.000000</td>\n",
              "      <td>1764.699951</td>\n",
              "      <td>611.700012</td>\n",
              "      <td>1345.849976</td>\n",
              "      <td>972.650024</td>\n",
              "      <td>1563.849976</td>\n",
              "    </tr>\n",
              "    <tr>\n",
              "      <th>2019-07-03</th>\n",
              "      <td>731.299988</td>\n",
              "      <td>2237.649902</td>\n",
              "      <td>282.850006</td>\n",
              "      <td>701.099976</td>\n",
              "      <td>525.599976</td>\n",
              "      <td>1735.199951</td>\n",
              "      <td>615.799988</td>\n",
              "      <td>1333.650024</td>\n",
              "      <td>988.950012</td>\n",
              "      <td>1578.050049</td>\n",
              "    </tr>\n",
              "    <tr>\n",
              "      <th>2019-07-04</th>\n",
              "      <td>733.799988</td>\n",
              "      <td>2242.649902</td>\n",
              "      <td>283.850006</td>\n",
              "      <td>700.599976</td>\n",
              "      <td>520.375000</td>\n",
              "      <td>1655.800049</td>\n",
              "      <td>620.599976</td>\n",
              "      <td>1338.150024</td>\n",
              "      <td>994.400024</td>\n",
              "      <td>1571.699951</td>\n",
              "    </tr>\n",
              "    <tr>\n",
              "      <th>2019-07-05</th>\n",
              "      <td>718.000000</td>\n",
              "      <td>2163.100098</td>\n",
              "      <td>271.850006</td>\n",
              "      <td>681.099976</td>\n",
              "      <td>508.200012</td>\n",
              "      <td>1665.699951</td>\n",
              "      <td>627.200012</td>\n",
              "      <td>1323.500000</td>\n",
              "      <td>981.950012</td>\n",
              "      <td>1558.349976</td>\n",
              "    </tr>\n",
              "  </tbody>\n",
              "</table>\n",
              "</div>\n",
              "    <div class=\"colab-df-buttons\">\n",
              "\n",
              "  <div class=\"colab-df-container\">\n",
              "    <button class=\"colab-df-convert\" onclick=\"convertToInteractive('df-85c01da8-9db0-42d6-b780-8e9b483d743f')\"\n",
              "            title=\"Convert this dataframe to an interactive table.\"\n",
              "            style=\"display:none;\">\n",
              "\n",
              "  <svg xmlns=\"http://www.w3.org/2000/svg\" height=\"24px\" viewBox=\"0 -960 960 960\">\n",
              "    <path d=\"M120-120v-720h720v720H120Zm60-500h600v-160H180v160Zm220 220h160v-160H400v160Zm0 220h160v-160H400v160ZM180-400h160v-160H180v160Zm440 0h160v-160H620v160ZM180-180h160v-160H180v160Zm440 0h160v-160H620v160Z\"/>\n",
              "  </svg>\n",
              "    </button>\n",
              "\n",
              "  <style>\n",
              "    .colab-df-container {\n",
              "      display:flex;\n",
              "      gap: 12px;\n",
              "    }\n",
              "\n",
              "    .colab-df-convert {\n",
              "      background-color: #E8F0FE;\n",
              "      border: none;\n",
              "      border-radius: 50%;\n",
              "      cursor: pointer;\n",
              "      display: none;\n",
              "      fill: #1967D2;\n",
              "      height: 32px;\n",
              "      padding: 0 0 0 0;\n",
              "      width: 32px;\n",
              "    }\n",
              "\n",
              "    .colab-df-convert:hover {\n",
              "      background-color: #E2EBFA;\n",
              "      box-shadow: 0px 1px 2px rgba(60, 64, 67, 0.3), 0px 1px 3px 1px rgba(60, 64, 67, 0.15);\n",
              "      fill: #174EA6;\n",
              "    }\n",
              "\n",
              "    .colab-df-buttons div {\n",
              "      margin-bottom: 4px;\n",
              "    }\n",
              "\n",
              "    [theme=dark] .colab-df-convert {\n",
              "      background-color: #3B4455;\n",
              "      fill: #D2E3FC;\n",
              "    }\n",
              "\n",
              "    [theme=dark] .colab-df-convert:hover {\n",
              "      background-color: #434B5C;\n",
              "      box-shadow: 0px 1px 3px 1px rgba(0, 0, 0, 0.15);\n",
              "      filter: drop-shadow(0px 1px 2px rgba(0, 0, 0, 0.3));\n",
              "      fill: #FFFFFF;\n",
              "    }\n",
              "  </style>\n",
              "\n",
              "    <script>\n",
              "      const buttonEl =\n",
              "        document.querySelector('#df-85c01da8-9db0-42d6-b780-8e9b483d743f button.colab-df-convert');\n",
              "      buttonEl.style.display =\n",
              "        google.colab.kernel.accessAllowed ? 'block' : 'none';\n",
              "\n",
              "      async function convertToInteractive(key) {\n",
              "        const element = document.querySelector('#df-85c01da8-9db0-42d6-b780-8e9b483d743f');\n",
              "        const dataTable =\n",
              "          await google.colab.kernel.invokeFunction('convertToInteractive',\n",
              "                                                    [key], {});\n",
              "        if (!dataTable) return;\n",
              "\n",
              "        const docLinkHtml = 'Like what you see? Visit the ' +\n",
              "          '<a target=\"_blank\" href=https://colab.research.google.com/notebooks/data_table.ipynb>data table notebook</a>'\n",
              "          + ' to learn more about interactive tables.';\n",
              "        element.innerHTML = '';\n",
              "        dataTable['output_type'] = 'display_data';\n",
              "        await google.colab.output.renderOutput(dataTable, element);\n",
              "        const docLink = document.createElement('div');\n",
              "        docLink.innerHTML = docLinkHtml;\n",
              "        element.appendChild(docLink);\n",
              "      }\n",
              "    </script>\n",
              "  </div>\n",
              "\n",
              "\n",
              "<div id=\"df-107f1f56-3475-4a35-8341-2df81ef7120a\">\n",
              "  <button class=\"colab-df-quickchart\" onclick=\"quickchart('df-107f1f56-3475-4a35-8341-2df81ef7120a')\"\n",
              "            title=\"Suggest charts.\"\n",
              "            style=\"display:none;\">\n",
              "\n",
              "<svg xmlns=\"http://www.w3.org/2000/svg\" height=\"24px\"viewBox=\"0 0 24 24\"\n",
              "     width=\"24px\">\n",
              "    <g>\n",
              "        <path d=\"M19 3H5c-1.1 0-2 .9-2 2v14c0 1.1.9 2 2 2h14c1.1 0 2-.9 2-2V5c0-1.1-.9-2-2-2zM9 17H7v-7h2v7zm4 0h-2V7h2v10zm4 0h-2v-4h2v4z\"/>\n",
              "    </g>\n",
              "</svg>\n",
              "  </button>\n",
              "\n",
              "<style>\n",
              "  .colab-df-quickchart {\n",
              "    background-color: #E8F0FE;\n",
              "    border: none;\n",
              "    border-radius: 50%;\n",
              "    cursor: pointer;\n",
              "    display: none;\n",
              "    fill: #1967D2;\n",
              "    height: 32px;\n",
              "    padding: 0 0 0 0;\n",
              "    width: 32px;\n",
              "  }\n",
              "\n",
              "  .colab-df-quickchart:hover {\n",
              "    background-color: #E2EBFA;\n",
              "    box-shadow: 0px 1px 2px rgba(60, 64, 67, 0.3), 0px 1px 3px 1px rgba(60, 64, 67, 0.15);\n",
              "    fill: #174EA6;\n",
              "  }\n",
              "\n",
              "  [theme=dark] .colab-df-quickchart {\n",
              "    background-color: #3B4455;\n",
              "    fill: #D2E3FC;\n",
              "  }\n",
              "\n",
              "  [theme=dark] .colab-df-quickchart:hover {\n",
              "    background-color: #434B5C;\n",
              "    box-shadow: 0px 1px 3px 1px rgba(0, 0, 0, 0.15);\n",
              "    filter: drop-shadow(0px 1px 2px rgba(0, 0, 0, 0.3));\n",
              "    fill: #FFFFFF;\n",
              "  }\n",
              "</style>\n",
              "\n",
              "  <script>\n",
              "    async function quickchart(key) {\n",
              "      const charts = await google.colab.kernel.invokeFunction(\n",
              "          'suggestCharts', [key], {});\n",
              "    }\n",
              "    (() => {\n",
              "      let quickchartButtonEl =\n",
              "        document.querySelector('#df-107f1f56-3475-4a35-8341-2df81ef7120a button');\n",
              "      quickchartButtonEl.style.display =\n",
              "        google.colab.kernel.accessAllowed ? 'block' : 'none';\n",
              "    })();\n",
              "  </script>\n",
              "</div>\n",
              "    </div>\n",
              "  </div>\n"
            ]
          },
          "metadata": {},
          "execution_count": 6
        }
      ],
      "source": [
        "# peek at data\n",
        "set_option('display.width', 100)\n",
        "dataset.head()"
      ]
    },
    {
      "cell_type": "markdown",
      "metadata": {
        "id": "I-n0jziBNLa2"
      },
      "source": [
        "<a id='3'></a>\n",
        "## 3. Data Pre-processing"
      ]
    },
    {
      "cell_type": "markdown",
      "metadata": {
        "id": "BkPSJ8VFNLa2"
      },
      "source": [
        "<a id='3.1'></a>\n",
        "### 3.1. Data Cleaning\n",
        "We check for the NAs in the rows, either drop them or fill them with the mean of the column."
      ]
    },
    {
      "cell_type": "code",
      "execution_count": null,
      "metadata": {
        "colab": {
          "base_uri": "https://localhost:8080/"
        },
        "id": "S8z4k1rlNLa2",
        "outputId": "ecb0ed87-e7b1-4e08-eb04-12ed44ebbc78"
      },
      "outputs": [
        {
          "output_type": "stream",
          "name": "stdout",
          "text": [
            "Null Values = False\n"
          ]
        },
        {
          "output_type": "execute_result",
          "data": {
            "text/plain": [
              "(991, 10)"
            ]
          },
          "metadata": {},
          "execution_count": 7
        }
      ],
      "source": [
        "#Checking for any null values and removing the null values'''\n",
        "print('Null Values =',dataset.isnull().values.any())\n",
        "dataset.shape"
      ]
    },
    {
      "cell_type": "markdown",
      "metadata": {
        "id": "VtJK0XcLNLa2"
      },
      "source": [
        "Getting rid of the columns with more than 30% missing values."
      ]
    },
    {
      "cell_type": "code",
      "execution_count": null,
      "metadata": {
        "colab": {
          "base_uri": "https://localhost:8080/"
        },
        "id": "sCwGsSCwNLa2",
        "outputId": "7c2e1301-9387-417a-d4e7-7ae3258e98eb"
      },
      "outputs": [
        {
          "output_type": "execute_result",
          "data": {
            "text/plain": [
              "(991, 10)"
            ]
          },
          "metadata": {},
          "execution_count": 8
        }
      ],
      "source": [
        "missing_fractions = dataset.isnull().mean().sort_values(ascending=False)\n",
        "\n",
        "missing_fractions.head(10)\n",
        "\n",
        "drop_list = sorted(list(missing_fractions[missing_fractions > 0.4].index))\n",
        "\n",
        "dataset.drop(labels=drop_list, axis=1, inplace=True)\n",
        "dataset.shape"
      ]
    },
    {
      "cell_type": "code",
      "source": [],
      "metadata": {
        "id": "KGOvd__CHGr3"
      },
      "execution_count": null,
      "outputs": []
    },
    {
      "cell_type": "markdown",
      "metadata": {
        "id": "q4bwqrbBNLa3"
      },
      "source": [
        "Given that there are null values drop the rown contianing the null values."
      ]
    },
    {
      "cell_type": "code",
      "execution_count": null,
      "metadata": {
        "colab": {
          "base_uri": "https://localhost:8080/",
          "height": 206
        },
        "id": "d0XUyq_vNLa3",
        "outputId": "513f86db-e28d-48c2-d14d-3330108f836d"
      },
      "outputs": [
        {
          "output_type": "execute_result",
          "data": {
            "text/plain": [
              "               INFY.NS       TCS.NS    WIPRO.NS    TECHM.NS  HCLTECH.NS      LTIM.NS  \\\n",
              "2019-07-01  731.299988  2239.550049  282.000000  704.650024  524.549988  1841.250000   \n",
              "2019-07-02  740.000000  2252.100098  284.250000  711.650024  530.000000  1764.699951   \n",
              "2019-07-03  731.299988  2237.649902  282.850006  701.099976  525.599976  1735.199951   \n",
              "2019-07-04  733.799988  2242.649902  283.850006  700.599976  520.375000  1655.800049   \n",
              "2019-07-05  718.000000  2163.100098  271.850006  681.099976  508.200012  1665.699951   \n",
              "\n",
              "            PERSISTENT.NS   COFORGE.NS  MPHASIS.NS        LT.NS  \n",
              "2019-07-01     616.150024  1350.699951  990.700012  1556.650024  \n",
              "2019-07-02     611.700012  1345.849976  972.650024  1563.849976  \n",
              "2019-07-03     615.799988  1333.650024  988.950012  1578.050049  \n",
              "2019-07-04     620.599976  1338.150024  994.400024  1571.699951  \n",
              "2019-07-05     627.200012  1323.500000  981.950012  1558.349976  "
            ],
            "text/html": [
              "\n",
              "  <div id=\"df-1b4e130c-35d5-431f-94e3-84b9deba9464\" class=\"colab-df-container\">\n",
              "    <div>\n",
              "<style scoped>\n",
              "    .dataframe tbody tr th:only-of-type {\n",
              "        vertical-align: middle;\n",
              "    }\n",
              "\n",
              "    .dataframe tbody tr th {\n",
              "        vertical-align: top;\n",
              "    }\n",
              "\n",
              "    .dataframe thead th {\n",
              "        text-align: right;\n",
              "    }\n",
              "</style>\n",
              "<table border=\"1\" class=\"dataframe\">\n",
              "  <thead>\n",
              "    <tr style=\"text-align: right;\">\n",
              "      <th></th>\n",
              "      <th>INFY.NS</th>\n",
              "      <th>TCS.NS</th>\n",
              "      <th>WIPRO.NS</th>\n",
              "      <th>TECHM.NS</th>\n",
              "      <th>HCLTECH.NS</th>\n",
              "      <th>LTIM.NS</th>\n",
              "      <th>PERSISTENT.NS</th>\n",
              "      <th>COFORGE.NS</th>\n",
              "      <th>MPHASIS.NS</th>\n",
              "      <th>LT.NS</th>\n",
              "    </tr>\n",
              "  </thead>\n",
              "  <tbody>\n",
              "    <tr>\n",
              "      <th>2019-07-01</th>\n",
              "      <td>731.299988</td>\n",
              "      <td>2239.550049</td>\n",
              "      <td>282.000000</td>\n",
              "      <td>704.650024</td>\n",
              "      <td>524.549988</td>\n",
              "      <td>1841.250000</td>\n",
              "      <td>616.150024</td>\n",
              "      <td>1350.699951</td>\n",
              "      <td>990.700012</td>\n",
              "      <td>1556.650024</td>\n",
              "    </tr>\n",
              "    <tr>\n",
              "      <th>2019-07-02</th>\n",
              "      <td>740.000000</td>\n",
              "      <td>2252.100098</td>\n",
              "      <td>284.250000</td>\n",
              "      <td>711.650024</td>\n",
              "      <td>530.000000</td>\n",
              "      <td>1764.699951</td>\n",
              "      <td>611.700012</td>\n",
              "      <td>1345.849976</td>\n",
              "      <td>972.650024</td>\n",
              "      <td>1563.849976</td>\n",
              "    </tr>\n",
              "    <tr>\n",
              "      <th>2019-07-03</th>\n",
              "      <td>731.299988</td>\n",
              "      <td>2237.649902</td>\n",
              "      <td>282.850006</td>\n",
              "      <td>701.099976</td>\n",
              "      <td>525.599976</td>\n",
              "      <td>1735.199951</td>\n",
              "      <td>615.799988</td>\n",
              "      <td>1333.650024</td>\n",
              "      <td>988.950012</td>\n",
              "      <td>1578.050049</td>\n",
              "    </tr>\n",
              "    <tr>\n",
              "      <th>2019-07-04</th>\n",
              "      <td>733.799988</td>\n",
              "      <td>2242.649902</td>\n",
              "      <td>283.850006</td>\n",
              "      <td>700.599976</td>\n",
              "      <td>520.375000</td>\n",
              "      <td>1655.800049</td>\n",
              "      <td>620.599976</td>\n",
              "      <td>1338.150024</td>\n",
              "      <td>994.400024</td>\n",
              "      <td>1571.699951</td>\n",
              "    </tr>\n",
              "    <tr>\n",
              "      <th>2019-07-05</th>\n",
              "      <td>718.000000</td>\n",
              "      <td>2163.100098</td>\n",
              "      <td>271.850006</td>\n",
              "      <td>681.099976</td>\n",
              "      <td>508.200012</td>\n",
              "      <td>1665.699951</td>\n",
              "      <td>627.200012</td>\n",
              "      <td>1323.500000</td>\n",
              "      <td>981.950012</td>\n",
              "      <td>1558.349976</td>\n",
              "    </tr>\n",
              "  </tbody>\n",
              "</table>\n",
              "</div>\n",
              "    <div class=\"colab-df-buttons\">\n",
              "\n",
              "  <div class=\"colab-df-container\">\n",
              "    <button class=\"colab-df-convert\" onclick=\"convertToInteractive('df-1b4e130c-35d5-431f-94e3-84b9deba9464')\"\n",
              "            title=\"Convert this dataframe to an interactive table.\"\n",
              "            style=\"display:none;\">\n",
              "\n",
              "  <svg xmlns=\"http://www.w3.org/2000/svg\" height=\"24px\" viewBox=\"0 -960 960 960\">\n",
              "    <path d=\"M120-120v-720h720v720H120Zm60-500h600v-160H180v160Zm220 220h160v-160H400v160Zm0 220h160v-160H400v160ZM180-400h160v-160H180v160Zm440 0h160v-160H620v160ZM180-180h160v-160H180v160Zm440 0h160v-160H620v160Z\"/>\n",
              "  </svg>\n",
              "    </button>\n",
              "\n",
              "  <style>\n",
              "    .colab-df-container {\n",
              "      display:flex;\n",
              "      gap: 12px;\n",
              "    }\n",
              "\n",
              "    .colab-df-convert {\n",
              "      background-color: #E8F0FE;\n",
              "      border: none;\n",
              "      border-radius: 50%;\n",
              "      cursor: pointer;\n",
              "      display: none;\n",
              "      fill: #1967D2;\n",
              "      height: 32px;\n",
              "      padding: 0 0 0 0;\n",
              "      width: 32px;\n",
              "    }\n",
              "\n",
              "    .colab-df-convert:hover {\n",
              "      background-color: #E2EBFA;\n",
              "      box-shadow: 0px 1px 2px rgba(60, 64, 67, 0.3), 0px 1px 3px 1px rgba(60, 64, 67, 0.15);\n",
              "      fill: #174EA6;\n",
              "    }\n",
              "\n",
              "    .colab-df-buttons div {\n",
              "      margin-bottom: 4px;\n",
              "    }\n",
              "\n",
              "    [theme=dark] .colab-df-convert {\n",
              "      background-color: #3B4455;\n",
              "      fill: #D2E3FC;\n",
              "    }\n",
              "\n",
              "    [theme=dark] .colab-df-convert:hover {\n",
              "      background-color: #434B5C;\n",
              "      box-shadow: 0px 1px 3px 1px rgba(0, 0, 0, 0.15);\n",
              "      filter: drop-shadow(0px 1px 2px rgba(0, 0, 0, 0.3));\n",
              "      fill: #FFFFFF;\n",
              "    }\n",
              "  </style>\n",
              "\n",
              "    <script>\n",
              "      const buttonEl =\n",
              "        document.querySelector('#df-1b4e130c-35d5-431f-94e3-84b9deba9464 button.colab-df-convert');\n",
              "      buttonEl.style.display =\n",
              "        google.colab.kernel.accessAllowed ? 'block' : 'none';\n",
              "\n",
              "      async function convertToInteractive(key) {\n",
              "        const element = document.querySelector('#df-1b4e130c-35d5-431f-94e3-84b9deba9464');\n",
              "        const dataTable =\n",
              "          await google.colab.kernel.invokeFunction('convertToInteractive',\n",
              "                                                    [key], {});\n",
              "        if (!dataTable) return;\n",
              "\n",
              "        const docLinkHtml = 'Like what you see? Visit the ' +\n",
              "          '<a target=\"_blank\" href=https://colab.research.google.com/notebooks/data_table.ipynb>data table notebook</a>'\n",
              "          + ' to learn more about interactive tables.';\n",
              "        element.innerHTML = '';\n",
              "        dataTable['output_type'] = 'display_data';\n",
              "        await google.colab.output.renderOutput(dataTable, element);\n",
              "        const docLink = document.createElement('div');\n",
              "        docLink.innerHTML = docLinkHtml;\n",
              "        element.appendChild(docLink);\n",
              "      }\n",
              "    </script>\n",
              "  </div>\n",
              "\n",
              "\n",
              "<div id=\"df-3db27987-f1e2-4804-8379-0ab5f651c469\">\n",
              "  <button class=\"colab-df-quickchart\" onclick=\"quickchart('df-3db27987-f1e2-4804-8379-0ab5f651c469')\"\n",
              "            title=\"Suggest charts.\"\n",
              "            style=\"display:none;\">\n",
              "\n",
              "<svg xmlns=\"http://www.w3.org/2000/svg\" height=\"24px\"viewBox=\"0 0 24 24\"\n",
              "     width=\"24px\">\n",
              "    <g>\n",
              "        <path d=\"M19 3H5c-1.1 0-2 .9-2 2v14c0 1.1.9 2 2 2h14c1.1 0 2-.9 2-2V5c0-1.1-.9-2-2-2zM9 17H7v-7h2v7zm4 0h-2V7h2v10zm4 0h-2v-4h2v4z\"/>\n",
              "    </g>\n",
              "</svg>\n",
              "  </button>\n",
              "\n",
              "<style>\n",
              "  .colab-df-quickchart {\n",
              "    background-color: #E8F0FE;\n",
              "    border: none;\n",
              "    border-radius: 50%;\n",
              "    cursor: pointer;\n",
              "    display: none;\n",
              "    fill: #1967D2;\n",
              "    height: 32px;\n",
              "    padding: 0 0 0 0;\n",
              "    width: 32px;\n",
              "  }\n",
              "\n",
              "  .colab-df-quickchart:hover {\n",
              "    background-color: #E2EBFA;\n",
              "    box-shadow: 0px 1px 2px rgba(60, 64, 67, 0.3), 0px 1px 3px 1px rgba(60, 64, 67, 0.15);\n",
              "    fill: #174EA6;\n",
              "  }\n",
              "\n",
              "  [theme=dark] .colab-df-quickchart {\n",
              "    background-color: #3B4455;\n",
              "    fill: #D2E3FC;\n",
              "  }\n",
              "\n",
              "  [theme=dark] .colab-df-quickchart:hover {\n",
              "    background-color: #434B5C;\n",
              "    box-shadow: 0px 1px 3px 1px rgba(0, 0, 0, 0.15);\n",
              "    filter: drop-shadow(0px 1px 2px rgba(0, 0, 0, 0.3));\n",
              "    fill: #FFFFFF;\n",
              "  }\n",
              "</style>\n",
              "\n",
              "  <script>\n",
              "    async function quickchart(key) {\n",
              "      const charts = await google.colab.kernel.invokeFunction(\n",
              "          'suggestCharts', [key], {});\n",
              "    }\n",
              "    (() => {\n",
              "      let quickchartButtonEl =\n",
              "        document.querySelector('#df-3db27987-f1e2-4804-8379-0ab5f651c469 button');\n",
              "      quickchartButtonEl.style.display =\n",
              "        google.colab.kernel.accessAllowed ? 'block' : 'none';\n",
              "    })();\n",
              "  </script>\n",
              "</div>\n",
              "    </div>\n",
              "  </div>\n"
            ]
          },
          "metadata": {},
          "execution_count": 9
        }
      ],
      "source": [
        "# Fill the missing values with the last value available in the dataset.\n",
        "dataset=dataset.fillna(method='ffill')\n",
        "dataset.head()"
      ]
    },
    {
      "cell_type": "markdown",
      "metadata": {
        "id": "WZvltAxiNLa3"
      },
      "source": [
        "<a id='3.2'></a>\n",
        "### 3.2. Training and Test Dataset Preparation"
      ]
    },
    {
      "cell_type": "markdown",
      "metadata": {
        "id": "p96kpVo9NLa3"
      },
      "source": [
        "For the purpose of clustering, we will be using annual return figures. Let us prepare the dataset for training and testing, by separating 83.35% of the records for training the models and remaining records for testing. These figures have been chosen in such a way that the records of the year 2021 go into the test dataset while other records remain in the training dataset."
      ]
    },
    {
      "cell_type": "code",
      "execution_count": null,
      "metadata": {
        "id": "skgU5s5rNLa3"
      },
      "outputs": [],
      "source": [
        "X= dataset.copy('deep')\n",
        "row= len(X)\n",
        "train_len = int(row*.8335)"
      ]
    },
    {
      "cell_type": "code",
      "execution_count": null,
      "metadata": {
        "id": "svzK8dETNLa3"
      },
      "outputs": [],
      "source": [
        "X_train = X.head(train_len)"
      ]
    },
    {
      "cell_type": "code",
      "execution_count": null,
      "metadata": {
        "colab": {
          "base_uri": "https://localhost:8080/",
          "height": 423
        },
        "id": "V6kqxZFlNLa4",
        "outputId": "a25ad0a8-9413-4010-e6af-d546e175b6b7"
      },
      "outputs": [
        {
          "output_type": "execute_result",
          "data": {
            "text/plain": [
              "                INFY.NS       TCS.NS    WIPRO.NS     TECHM.NS   HCLTECH.NS      LTIM.NS  \\\n",
              "2019-07-01   731.299988  2239.550049  282.000000   704.650024   524.549988  1841.250000   \n",
              "2019-07-02   740.000000  2252.100098  284.250000   711.650024   530.000000  1764.699951   \n",
              "2019-07-03   731.299988  2237.649902  282.850006   701.099976   525.599976  1735.199951   \n",
              "2019-07-04   733.799988  2242.649902  283.850006   700.599976   520.375000  1655.800049   \n",
              "2019-07-05   718.000000  2163.100098  271.850006   681.099976   508.200012  1665.699951   \n",
              "...                 ...          ...         ...          ...          ...          ...   \n",
              "2022-10-20  1500.900024  3157.300049  381.500000  1041.650024  1017.400024  4758.600098   \n",
              "2022-10-21  1500.500000  3137.399902  382.549988  1041.150024  1027.199951  4765.250000   \n",
              "2022-10-24  1517.849976  3161.699951  384.700012  1048.150024  1031.599976  4738.299805   \n",
              "2022-10-25  1526.300049  3162.100098  384.649994  1082.500000  1026.500000  4809.700195   \n",
              "2022-10-27  1523.949951  3157.399902  382.649994  1075.849976  1032.050049  4676.250000   \n",
              "\n",
              "            PERSISTENT.NS   COFORGE.NS   MPHASIS.NS        LT.NS  \n",
              "2019-07-01     616.150024  1350.699951   990.700012  1556.650024  \n",
              "2019-07-02     611.700012  1345.849976   972.650024  1563.849976  \n",
              "2019-07-03     615.799988  1333.650024   988.950012  1578.050049  \n",
              "2019-07-04     620.599976  1338.150024   994.400024  1571.699951  \n",
              "2019-07-05     627.200012  1323.500000   981.950012  1558.349976  \n",
              "...                   ...          ...          ...          ...  \n",
              "2022-10-20    3706.600098  3858.300049  2147.399902  1904.150024  \n",
              "2022-10-21    3665.699951  3862.100098  2042.949951  1876.750000  \n",
              "2022-10-24    3708.000000  3877.300049  2038.000000  1909.750000  \n",
              "2022-10-25    3829.300049  3895.300049  2034.400024  1949.099976  \n",
              "2022-10-27    3768.949951  3888.199951  1969.949951  1964.050049  \n",
              "\n",
              "[825 rows x 10 columns]"
            ],
            "text/html": [
              "\n",
              "  <div id=\"df-58d1a97b-d2b4-4706-88cf-1ee5ae36be5c\" class=\"colab-df-container\">\n",
              "    <div>\n",
              "<style scoped>\n",
              "    .dataframe tbody tr th:only-of-type {\n",
              "        vertical-align: middle;\n",
              "    }\n",
              "\n",
              "    .dataframe tbody tr th {\n",
              "        vertical-align: top;\n",
              "    }\n",
              "\n",
              "    .dataframe thead th {\n",
              "        text-align: right;\n",
              "    }\n",
              "</style>\n",
              "<table border=\"1\" class=\"dataframe\">\n",
              "  <thead>\n",
              "    <tr style=\"text-align: right;\">\n",
              "      <th></th>\n",
              "      <th>INFY.NS</th>\n",
              "      <th>TCS.NS</th>\n",
              "      <th>WIPRO.NS</th>\n",
              "      <th>TECHM.NS</th>\n",
              "      <th>HCLTECH.NS</th>\n",
              "      <th>LTIM.NS</th>\n",
              "      <th>PERSISTENT.NS</th>\n",
              "      <th>COFORGE.NS</th>\n",
              "      <th>MPHASIS.NS</th>\n",
              "      <th>LT.NS</th>\n",
              "    </tr>\n",
              "  </thead>\n",
              "  <tbody>\n",
              "    <tr>\n",
              "      <th>2019-07-01</th>\n",
              "      <td>731.299988</td>\n",
              "      <td>2239.550049</td>\n",
              "      <td>282.000000</td>\n",
              "      <td>704.650024</td>\n",
              "      <td>524.549988</td>\n",
              "      <td>1841.250000</td>\n",
              "      <td>616.150024</td>\n",
              "      <td>1350.699951</td>\n",
              "      <td>990.700012</td>\n",
              "      <td>1556.650024</td>\n",
              "    </tr>\n",
              "    <tr>\n",
              "      <th>2019-07-02</th>\n",
              "      <td>740.000000</td>\n",
              "      <td>2252.100098</td>\n",
              "      <td>284.250000</td>\n",
              "      <td>711.650024</td>\n",
              "      <td>530.000000</td>\n",
              "      <td>1764.699951</td>\n",
              "      <td>611.700012</td>\n",
              "      <td>1345.849976</td>\n",
              "      <td>972.650024</td>\n",
              "      <td>1563.849976</td>\n",
              "    </tr>\n",
              "    <tr>\n",
              "      <th>2019-07-03</th>\n",
              "      <td>731.299988</td>\n",
              "      <td>2237.649902</td>\n",
              "      <td>282.850006</td>\n",
              "      <td>701.099976</td>\n",
              "      <td>525.599976</td>\n",
              "      <td>1735.199951</td>\n",
              "      <td>615.799988</td>\n",
              "      <td>1333.650024</td>\n",
              "      <td>988.950012</td>\n",
              "      <td>1578.050049</td>\n",
              "    </tr>\n",
              "    <tr>\n",
              "      <th>2019-07-04</th>\n",
              "      <td>733.799988</td>\n",
              "      <td>2242.649902</td>\n",
              "      <td>283.850006</td>\n",
              "      <td>700.599976</td>\n",
              "      <td>520.375000</td>\n",
              "      <td>1655.800049</td>\n",
              "      <td>620.599976</td>\n",
              "      <td>1338.150024</td>\n",
              "      <td>994.400024</td>\n",
              "      <td>1571.699951</td>\n",
              "    </tr>\n",
              "    <tr>\n",
              "      <th>2019-07-05</th>\n",
              "      <td>718.000000</td>\n",
              "      <td>2163.100098</td>\n",
              "      <td>271.850006</td>\n",
              "      <td>681.099976</td>\n",
              "      <td>508.200012</td>\n",
              "      <td>1665.699951</td>\n",
              "      <td>627.200012</td>\n",
              "      <td>1323.500000</td>\n",
              "      <td>981.950012</td>\n",
              "      <td>1558.349976</td>\n",
              "    </tr>\n",
              "    <tr>\n",
              "      <th>...</th>\n",
              "      <td>...</td>\n",
              "      <td>...</td>\n",
              "      <td>...</td>\n",
              "      <td>...</td>\n",
              "      <td>...</td>\n",
              "      <td>...</td>\n",
              "      <td>...</td>\n",
              "      <td>...</td>\n",
              "      <td>...</td>\n",
              "      <td>...</td>\n",
              "    </tr>\n",
              "    <tr>\n",
              "      <th>2022-10-20</th>\n",
              "      <td>1500.900024</td>\n",
              "      <td>3157.300049</td>\n",
              "      <td>381.500000</td>\n",
              "      <td>1041.650024</td>\n",
              "      <td>1017.400024</td>\n",
              "      <td>4758.600098</td>\n",
              "      <td>3706.600098</td>\n",
              "      <td>3858.300049</td>\n",
              "      <td>2147.399902</td>\n",
              "      <td>1904.150024</td>\n",
              "    </tr>\n",
              "    <tr>\n",
              "      <th>2022-10-21</th>\n",
              "      <td>1500.500000</td>\n",
              "      <td>3137.399902</td>\n",
              "      <td>382.549988</td>\n",
              "      <td>1041.150024</td>\n",
              "      <td>1027.199951</td>\n",
              "      <td>4765.250000</td>\n",
              "      <td>3665.699951</td>\n",
              "      <td>3862.100098</td>\n",
              "      <td>2042.949951</td>\n",
              "      <td>1876.750000</td>\n",
              "    </tr>\n",
              "    <tr>\n",
              "      <th>2022-10-24</th>\n",
              "      <td>1517.849976</td>\n",
              "      <td>3161.699951</td>\n",
              "      <td>384.700012</td>\n",
              "      <td>1048.150024</td>\n",
              "      <td>1031.599976</td>\n",
              "      <td>4738.299805</td>\n",
              "      <td>3708.000000</td>\n",
              "      <td>3877.300049</td>\n",
              "      <td>2038.000000</td>\n",
              "      <td>1909.750000</td>\n",
              "    </tr>\n",
              "    <tr>\n",
              "      <th>2022-10-25</th>\n",
              "      <td>1526.300049</td>\n",
              "      <td>3162.100098</td>\n",
              "      <td>384.649994</td>\n",
              "      <td>1082.500000</td>\n",
              "      <td>1026.500000</td>\n",
              "      <td>4809.700195</td>\n",
              "      <td>3829.300049</td>\n",
              "      <td>3895.300049</td>\n",
              "      <td>2034.400024</td>\n",
              "      <td>1949.099976</td>\n",
              "    </tr>\n",
              "    <tr>\n",
              "      <th>2022-10-27</th>\n",
              "      <td>1523.949951</td>\n",
              "      <td>3157.399902</td>\n",
              "      <td>382.649994</td>\n",
              "      <td>1075.849976</td>\n",
              "      <td>1032.050049</td>\n",
              "      <td>4676.250000</td>\n",
              "      <td>3768.949951</td>\n",
              "      <td>3888.199951</td>\n",
              "      <td>1969.949951</td>\n",
              "      <td>1964.050049</td>\n",
              "    </tr>\n",
              "  </tbody>\n",
              "</table>\n",
              "<p>825 rows × 10 columns</p>\n",
              "</div>\n",
              "    <div class=\"colab-df-buttons\">\n",
              "\n",
              "  <div class=\"colab-df-container\">\n",
              "    <button class=\"colab-df-convert\" onclick=\"convertToInteractive('df-58d1a97b-d2b4-4706-88cf-1ee5ae36be5c')\"\n",
              "            title=\"Convert this dataframe to an interactive table.\"\n",
              "            style=\"display:none;\">\n",
              "\n",
              "  <svg xmlns=\"http://www.w3.org/2000/svg\" height=\"24px\" viewBox=\"0 -960 960 960\">\n",
              "    <path d=\"M120-120v-720h720v720H120Zm60-500h600v-160H180v160Zm220 220h160v-160H400v160Zm0 220h160v-160H400v160ZM180-400h160v-160H180v160Zm440 0h160v-160H620v160ZM180-180h160v-160H180v160Zm440 0h160v-160H620v160Z\"/>\n",
              "  </svg>\n",
              "    </button>\n",
              "\n",
              "  <style>\n",
              "    .colab-df-container {\n",
              "      display:flex;\n",
              "      gap: 12px;\n",
              "    }\n",
              "\n",
              "    .colab-df-convert {\n",
              "      background-color: #E8F0FE;\n",
              "      border: none;\n",
              "      border-radius: 50%;\n",
              "      cursor: pointer;\n",
              "      display: none;\n",
              "      fill: #1967D2;\n",
              "      height: 32px;\n",
              "      padding: 0 0 0 0;\n",
              "      width: 32px;\n",
              "    }\n",
              "\n",
              "    .colab-df-convert:hover {\n",
              "      background-color: #E2EBFA;\n",
              "      box-shadow: 0px 1px 2px rgba(60, 64, 67, 0.3), 0px 1px 3px 1px rgba(60, 64, 67, 0.15);\n",
              "      fill: #174EA6;\n",
              "    }\n",
              "\n",
              "    .colab-df-buttons div {\n",
              "      margin-bottom: 4px;\n",
              "    }\n",
              "\n",
              "    [theme=dark] .colab-df-convert {\n",
              "      background-color: #3B4455;\n",
              "      fill: #D2E3FC;\n",
              "    }\n",
              "\n",
              "    [theme=dark] .colab-df-convert:hover {\n",
              "      background-color: #434B5C;\n",
              "      box-shadow: 0px 1px 3px 1px rgba(0, 0, 0, 0.15);\n",
              "      filter: drop-shadow(0px 1px 2px rgba(0, 0, 0, 0.3));\n",
              "      fill: #FFFFFF;\n",
              "    }\n",
              "  </style>\n",
              "\n",
              "    <script>\n",
              "      const buttonEl =\n",
              "        document.querySelector('#df-58d1a97b-d2b4-4706-88cf-1ee5ae36be5c button.colab-df-convert');\n",
              "      buttonEl.style.display =\n",
              "        google.colab.kernel.accessAllowed ? 'block' : 'none';\n",
              "\n",
              "      async function convertToInteractive(key) {\n",
              "        const element = document.querySelector('#df-58d1a97b-d2b4-4706-88cf-1ee5ae36be5c');\n",
              "        const dataTable =\n",
              "          await google.colab.kernel.invokeFunction('convertToInteractive',\n",
              "                                                    [key], {});\n",
              "        if (!dataTable) return;\n",
              "\n",
              "        const docLinkHtml = 'Like what you see? Visit the ' +\n",
              "          '<a target=\"_blank\" href=https://colab.research.google.com/notebooks/data_table.ipynb>data table notebook</a>'\n",
              "          + ' to learn more about interactive tables.';\n",
              "        element.innerHTML = '';\n",
              "        dataTable['output_type'] = 'display_data';\n",
              "        await google.colab.output.renderOutput(dataTable, element);\n",
              "        const docLink = document.createElement('div');\n",
              "        docLink.innerHTML = docLinkHtml;\n",
              "        element.appendChild(docLink);\n",
              "      }\n",
              "    </script>\n",
              "  </div>\n",
              "\n",
              "\n",
              "<div id=\"df-1792a551-5efe-4561-b69c-95f2a987aa60\">\n",
              "  <button class=\"colab-df-quickchart\" onclick=\"quickchart('df-1792a551-5efe-4561-b69c-95f2a987aa60')\"\n",
              "            title=\"Suggest charts.\"\n",
              "            style=\"display:none;\">\n",
              "\n",
              "<svg xmlns=\"http://www.w3.org/2000/svg\" height=\"24px\"viewBox=\"0 0 24 24\"\n",
              "     width=\"24px\">\n",
              "    <g>\n",
              "        <path d=\"M19 3H5c-1.1 0-2 .9-2 2v14c0 1.1.9 2 2 2h14c1.1 0 2-.9 2-2V5c0-1.1-.9-2-2-2zM9 17H7v-7h2v7zm4 0h-2V7h2v10zm4 0h-2v-4h2v4z\"/>\n",
              "    </g>\n",
              "</svg>\n",
              "  </button>\n",
              "\n",
              "<style>\n",
              "  .colab-df-quickchart {\n",
              "    background-color: #E8F0FE;\n",
              "    border: none;\n",
              "    border-radius: 50%;\n",
              "    cursor: pointer;\n",
              "    display: none;\n",
              "    fill: #1967D2;\n",
              "    height: 32px;\n",
              "    padding: 0 0 0 0;\n",
              "    width: 32px;\n",
              "  }\n",
              "\n",
              "  .colab-df-quickchart:hover {\n",
              "    background-color: #E2EBFA;\n",
              "    box-shadow: 0px 1px 2px rgba(60, 64, 67, 0.3), 0px 1px 3px 1px rgba(60, 64, 67, 0.15);\n",
              "    fill: #174EA6;\n",
              "  }\n",
              "\n",
              "  [theme=dark] .colab-df-quickchart {\n",
              "    background-color: #3B4455;\n",
              "    fill: #D2E3FC;\n",
              "  }\n",
              "\n",
              "  [theme=dark] .colab-df-quickchart:hover {\n",
              "    background-color: #434B5C;\n",
              "    box-shadow: 0px 1px 3px 1px rgba(0, 0, 0, 0.15);\n",
              "    filter: drop-shadow(0px 1px 2px rgba(0, 0, 0, 0.3));\n",
              "    fill: #FFFFFF;\n",
              "  }\n",
              "</style>\n",
              "\n",
              "  <script>\n",
              "    async function quickchart(key) {\n",
              "      const charts = await google.colab.kernel.invokeFunction(\n",
              "          'suggestCharts', [key], {});\n",
              "    }\n",
              "    (() => {\n",
              "      let quickchartButtonEl =\n",
              "        document.querySelector('#df-1792a551-5efe-4561-b69c-95f2a987aa60 button');\n",
              "      quickchartButtonEl.style.display =\n",
              "        google.colab.kernel.accessAllowed ? 'block' : 'none';\n",
              "    })();\n",
              "  </script>\n",
              "</div>\n",
              "    </div>\n",
              "  </div>\n"
            ]
          },
          "metadata": {},
          "execution_count": 12
        }
      ],
      "source": [
        "X_train"
      ]
    },
    {
      "cell_type": "code",
      "execution_count": null,
      "metadata": {
        "id": "DOUoWeB3NLa4",
        "colab": {
          "base_uri": "https://localhost:8080/",
          "height": 423
        },
        "outputId": "3baf5395-89ef-40d2-a529-006d9bd0dcc7"
      },
      "outputs": [
        {
          "output_type": "execute_result",
          "data": {
            "text/plain": [
              "                INFY.NS       TCS.NS    WIPRO.NS     TECHM.NS   HCLTECH.NS      LTIM.NS  \\\n",
              "2022-10-28  1513.250000  3163.250000  383.250000  1048.949951  1030.000000  4584.149902   \n",
              "2022-10-31  1537.650024  3193.149902  386.549988  1063.400024  1041.150024  4739.850098   \n",
              "2022-11-01  1573.000000  3259.699951  392.399994  1070.900024  1060.050049  4845.649902   \n",
              "2022-11-02  1553.300049  3241.699951  393.950012  1082.000000  1045.199951  4859.850098   \n",
              "2022-11-03  1530.750000  3206.750000  388.500000  1052.849976  1045.150024  4839.000000   \n",
              "...                 ...          ...         ...          ...          ...          ...   \n",
              "2023-06-22  1281.550049  3238.500000  382.299988  1119.050049  1163.400024  5026.049805   \n",
              "2023-06-23  1265.000000  3216.350098  379.950012  1115.500000  1165.150024  4956.649902   \n",
              "2023-06-26  1270.349976  3189.649902  380.899994  1111.900024  1167.500000  5007.299805   \n",
              "2023-06-27  1279.150024  3197.350098  382.600006  1119.699951  1170.000000  5163.049805   \n",
              "2023-06-28  1279.150024  3197.350098  382.600006  1119.699951  1170.000000  5163.049805   \n",
              "\n",
              "            PERSISTENT.NS   COFORGE.NS   MPHASIS.NS        LT.NS  \n",
              "2022-10-28    3621.500000  3736.500000  1947.849976  1975.050049  \n",
              "2022-10-31    3693.050049  3809.600098  1978.500000  2023.099976  \n",
              "2022-11-01    3764.550049  3844.750000  2011.300049  2024.449951  \n",
              "2022-11-02    3751.750000  3837.699951  2036.150024  2013.300049  \n",
              "2022-11-03    3755.350098  3794.399902  1989.699951  2008.699951  \n",
              "...                   ...          ...          ...          ...  \n",
              "2023-06-22    4869.899902  4534.700195  1855.050049  2416.250000  \n",
              "2023-06-23    4804.850098  4499.450195  1831.050049  2389.550049  \n",
              "2023-06-26    4906.149902  4606.700195  1814.000000  2377.550049  \n",
              "2023-06-27    4891.899902  4695.450195  1839.250000  2388.050049  \n",
              "2023-06-28    4891.899902  4695.450195  1839.250000  2388.050049  \n",
              "\n",
              "[166 rows x 10 columns]"
            ],
            "text/html": [
              "\n",
              "  <div id=\"df-dd938361-4c86-4228-971e-b8a5679df5b0\" class=\"colab-df-container\">\n",
              "    <div>\n",
              "<style scoped>\n",
              "    .dataframe tbody tr th:only-of-type {\n",
              "        vertical-align: middle;\n",
              "    }\n",
              "\n",
              "    .dataframe tbody tr th {\n",
              "        vertical-align: top;\n",
              "    }\n",
              "\n",
              "    .dataframe thead th {\n",
              "        text-align: right;\n",
              "    }\n",
              "</style>\n",
              "<table border=\"1\" class=\"dataframe\">\n",
              "  <thead>\n",
              "    <tr style=\"text-align: right;\">\n",
              "      <th></th>\n",
              "      <th>INFY.NS</th>\n",
              "      <th>TCS.NS</th>\n",
              "      <th>WIPRO.NS</th>\n",
              "      <th>TECHM.NS</th>\n",
              "      <th>HCLTECH.NS</th>\n",
              "      <th>LTIM.NS</th>\n",
              "      <th>PERSISTENT.NS</th>\n",
              "      <th>COFORGE.NS</th>\n",
              "      <th>MPHASIS.NS</th>\n",
              "      <th>LT.NS</th>\n",
              "    </tr>\n",
              "  </thead>\n",
              "  <tbody>\n",
              "    <tr>\n",
              "      <th>2022-10-28</th>\n",
              "      <td>1513.250000</td>\n",
              "      <td>3163.250000</td>\n",
              "      <td>383.250000</td>\n",
              "      <td>1048.949951</td>\n",
              "      <td>1030.000000</td>\n",
              "      <td>4584.149902</td>\n",
              "      <td>3621.500000</td>\n",
              "      <td>3736.500000</td>\n",
              "      <td>1947.849976</td>\n",
              "      <td>1975.050049</td>\n",
              "    </tr>\n",
              "    <tr>\n",
              "      <th>2022-10-31</th>\n",
              "      <td>1537.650024</td>\n",
              "      <td>3193.149902</td>\n",
              "      <td>386.549988</td>\n",
              "      <td>1063.400024</td>\n",
              "      <td>1041.150024</td>\n",
              "      <td>4739.850098</td>\n",
              "      <td>3693.050049</td>\n",
              "      <td>3809.600098</td>\n",
              "      <td>1978.500000</td>\n",
              "      <td>2023.099976</td>\n",
              "    </tr>\n",
              "    <tr>\n",
              "      <th>2022-11-01</th>\n",
              "      <td>1573.000000</td>\n",
              "      <td>3259.699951</td>\n",
              "      <td>392.399994</td>\n",
              "      <td>1070.900024</td>\n",
              "      <td>1060.050049</td>\n",
              "      <td>4845.649902</td>\n",
              "      <td>3764.550049</td>\n",
              "      <td>3844.750000</td>\n",
              "      <td>2011.300049</td>\n",
              "      <td>2024.449951</td>\n",
              "    </tr>\n",
              "    <tr>\n",
              "      <th>2022-11-02</th>\n",
              "      <td>1553.300049</td>\n",
              "      <td>3241.699951</td>\n",
              "      <td>393.950012</td>\n",
              "      <td>1082.000000</td>\n",
              "      <td>1045.199951</td>\n",
              "      <td>4859.850098</td>\n",
              "      <td>3751.750000</td>\n",
              "      <td>3837.699951</td>\n",
              "      <td>2036.150024</td>\n",
              "      <td>2013.300049</td>\n",
              "    </tr>\n",
              "    <tr>\n",
              "      <th>2022-11-03</th>\n",
              "      <td>1530.750000</td>\n",
              "      <td>3206.750000</td>\n",
              "      <td>388.500000</td>\n",
              "      <td>1052.849976</td>\n",
              "      <td>1045.150024</td>\n",
              "      <td>4839.000000</td>\n",
              "      <td>3755.350098</td>\n",
              "      <td>3794.399902</td>\n",
              "      <td>1989.699951</td>\n",
              "      <td>2008.699951</td>\n",
              "    </tr>\n",
              "    <tr>\n",
              "      <th>...</th>\n",
              "      <td>...</td>\n",
              "      <td>...</td>\n",
              "      <td>...</td>\n",
              "      <td>...</td>\n",
              "      <td>...</td>\n",
              "      <td>...</td>\n",
              "      <td>...</td>\n",
              "      <td>...</td>\n",
              "      <td>...</td>\n",
              "      <td>...</td>\n",
              "    </tr>\n",
              "    <tr>\n",
              "      <th>2023-06-22</th>\n",
              "      <td>1281.550049</td>\n",
              "      <td>3238.500000</td>\n",
              "      <td>382.299988</td>\n",
              "      <td>1119.050049</td>\n",
              "      <td>1163.400024</td>\n",
              "      <td>5026.049805</td>\n",
              "      <td>4869.899902</td>\n",
              "      <td>4534.700195</td>\n",
              "      <td>1855.050049</td>\n",
              "      <td>2416.250000</td>\n",
              "    </tr>\n",
              "    <tr>\n",
              "      <th>2023-06-23</th>\n",
              "      <td>1265.000000</td>\n",
              "      <td>3216.350098</td>\n",
              "      <td>379.950012</td>\n",
              "      <td>1115.500000</td>\n",
              "      <td>1165.150024</td>\n",
              "      <td>4956.649902</td>\n",
              "      <td>4804.850098</td>\n",
              "      <td>4499.450195</td>\n",
              "      <td>1831.050049</td>\n",
              "      <td>2389.550049</td>\n",
              "    </tr>\n",
              "    <tr>\n",
              "      <th>2023-06-26</th>\n",
              "      <td>1270.349976</td>\n",
              "      <td>3189.649902</td>\n",
              "      <td>380.899994</td>\n",
              "      <td>1111.900024</td>\n",
              "      <td>1167.500000</td>\n",
              "      <td>5007.299805</td>\n",
              "      <td>4906.149902</td>\n",
              "      <td>4606.700195</td>\n",
              "      <td>1814.000000</td>\n",
              "      <td>2377.550049</td>\n",
              "    </tr>\n",
              "    <tr>\n",
              "      <th>2023-06-27</th>\n",
              "      <td>1279.150024</td>\n",
              "      <td>3197.350098</td>\n",
              "      <td>382.600006</td>\n",
              "      <td>1119.699951</td>\n",
              "      <td>1170.000000</td>\n",
              "      <td>5163.049805</td>\n",
              "      <td>4891.899902</td>\n",
              "      <td>4695.450195</td>\n",
              "      <td>1839.250000</td>\n",
              "      <td>2388.050049</td>\n",
              "    </tr>\n",
              "    <tr>\n",
              "      <th>2023-06-28</th>\n",
              "      <td>1279.150024</td>\n",
              "      <td>3197.350098</td>\n",
              "      <td>382.600006</td>\n",
              "      <td>1119.699951</td>\n",
              "      <td>1170.000000</td>\n",
              "      <td>5163.049805</td>\n",
              "      <td>4891.899902</td>\n",
              "      <td>4695.450195</td>\n",
              "      <td>1839.250000</td>\n",
              "      <td>2388.050049</td>\n",
              "    </tr>\n",
              "  </tbody>\n",
              "</table>\n",
              "<p>166 rows × 10 columns</p>\n",
              "</div>\n",
              "    <div class=\"colab-df-buttons\">\n",
              "\n",
              "  <div class=\"colab-df-container\">\n",
              "    <button class=\"colab-df-convert\" onclick=\"convertToInteractive('df-dd938361-4c86-4228-971e-b8a5679df5b0')\"\n",
              "            title=\"Convert this dataframe to an interactive table.\"\n",
              "            style=\"display:none;\">\n",
              "\n",
              "  <svg xmlns=\"http://www.w3.org/2000/svg\" height=\"24px\" viewBox=\"0 -960 960 960\">\n",
              "    <path d=\"M120-120v-720h720v720H120Zm60-500h600v-160H180v160Zm220 220h160v-160H400v160Zm0 220h160v-160H400v160ZM180-400h160v-160H180v160Zm440 0h160v-160H620v160ZM180-180h160v-160H180v160Zm440 0h160v-160H620v160Z\"/>\n",
              "  </svg>\n",
              "    </button>\n",
              "\n",
              "  <style>\n",
              "    .colab-df-container {\n",
              "      display:flex;\n",
              "      gap: 12px;\n",
              "    }\n",
              "\n",
              "    .colab-df-convert {\n",
              "      background-color: #E8F0FE;\n",
              "      border: none;\n",
              "      border-radius: 50%;\n",
              "      cursor: pointer;\n",
              "      display: none;\n",
              "      fill: #1967D2;\n",
              "      height: 32px;\n",
              "      padding: 0 0 0 0;\n",
              "      width: 32px;\n",
              "    }\n",
              "\n",
              "    .colab-df-convert:hover {\n",
              "      background-color: #E2EBFA;\n",
              "      box-shadow: 0px 1px 2px rgba(60, 64, 67, 0.3), 0px 1px 3px 1px rgba(60, 64, 67, 0.15);\n",
              "      fill: #174EA6;\n",
              "    }\n",
              "\n",
              "    .colab-df-buttons div {\n",
              "      margin-bottom: 4px;\n",
              "    }\n",
              "\n",
              "    [theme=dark] .colab-df-convert {\n",
              "      background-color: #3B4455;\n",
              "      fill: #D2E3FC;\n",
              "    }\n",
              "\n",
              "    [theme=dark] .colab-df-convert:hover {\n",
              "      background-color: #434B5C;\n",
              "      box-shadow: 0px 1px 3px 1px rgba(0, 0, 0, 0.15);\n",
              "      filter: drop-shadow(0px 1px 2px rgba(0, 0, 0, 0.3));\n",
              "      fill: #FFFFFF;\n",
              "    }\n",
              "  </style>\n",
              "\n",
              "    <script>\n",
              "      const buttonEl =\n",
              "        document.querySelector('#df-dd938361-4c86-4228-971e-b8a5679df5b0 button.colab-df-convert');\n",
              "      buttonEl.style.display =\n",
              "        google.colab.kernel.accessAllowed ? 'block' : 'none';\n",
              "\n",
              "      async function convertToInteractive(key) {\n",
              "        const element = document.querySelector('#df-dd938361-4c86-4228-971e-b8a5679df5b0');\n",
              "        const dataTable =\n",
              "          await google.colab.kernel.invokeFunction('convertToInteractive',\n",
              "                                                    [key], {});\n",
              "        if (!dataTable) return;\n",
              "\n",
              "        const docLinkHtml = 'Like what you see? Visit the ' +\n",
              "          '<a target=\"_blank\" href=https://colab.research.google.com/notebooks/data_table.ipynb>data table notebook</a>'\n",
              "          + ' to learn more about interactive tables.';\n",
              "        element.innerHTML = '';\n",
              "        dataTable['output_type'] = 'display_data';\n",
              "        await google.colab.output.renderOutput(dataTable, element);\n",
              "        const docLink = document.createElement('div');\n",
              "        docLink.innerHTML = docLinkHtml;\n",
              "        element.appendChild(docLink);\n",
              "      }\n",
              "    </script>\n",
              "  </div>\n",
              "\n",
              "\n",
              "<div id=\"df-00e071c8-b7f7-4581-927e-81feec2c10c8\">\n",
              "  <button class=\"colab-df-quickchart\" onclick=\"quickchart('df-00e071c8-b7f7-4581-927e-81feec2c10c8')\"\n",
              "            title=\"Suggest charts.\"\n",
              "            style=\"display:none;\">\n",
              "\n",
              "<svg xmlns=\"http://www.w3.org/2000/svg\" height=\"24px\"viewBox=\"0 0 24 24\"\n",
              "     width=\"24px\">\n",
              "    <g>\n",
              "        <path d=\"M19 3H5c-1.1 0-2 .9-2 2v14c0 1.1.9 2 2 2h14c1.1 0 2-.9 2-2V5c0-1.1-.9-2-2-2zM9 17H7v-7h2v7zm4 0h-2V7h2v10zm4 0h-2v-4h2v4z\"/>\n",
              "    </g>\n",
              "</svg>\n",
              "  </button>\n",
              "\n",
              "<style>\n",
              "  .colab-df-quickchart {\n",
              "    background-color: #E8F0FE;\n",
              "    border: none;\n",
              "    border-radius: 50%;\n",
              "    cursor: pointer;\n",
              "    display: none;\n",
              "    fill: #1967D2;\n",
              "    height: 32px;\n",
              "    padding: 0 0 0 0;\n",
              "    width: 32px;\n",
              "  }\n",
              "\n",
              "  .colab-df-quickchart:hover {\n",
              "    background-color: #E2EBFA;\n",
              "    box-shadow: 0px 1px 2px rgba(60, 64, 67, 0.3), 0px 1px 3px 1px rgba(60, 64, 67, 0.15);\n",
              "    fill: #174EA6;\n",
              "  }\n",
              "\n",
              "  [theme=dark] .colab-df-quickchart {\n",
              "    background-color: #3B4455;\n",
              "    fill: #D2E3FC;\n",
              "  }\n",
              "\n",
              "  [theme=dark] .colab-df-quickchart:hover {\n",
              "    background-color: #434B5C;\n",
              "    box-shadow: 0px 1px 3px 1px rgba(0, 0, 0, 0.15);\n",
              "    filter: drop-shadow(0px 1px 2px rgba(0, 0, 0, 0.3));\n",
              "    fill: #FFFFFF;\n",
              "  }\n",
              "</style>\n",
              "\n",
              "  <script>\n",
              "    async function quickchart(key) {\n",
              "      const charts = await google.colab.kernel.invokeFunction(\n",
              "          'suggestCharts', [key], {});\n",
              "    }\n",
              "    (() => {\n",
              "      let quickchartButtonEl =\n",
              "        document.querySelector('#df-00e071c8-b7f7-4581-927e-81feec2c10c8 button');\n",
              "      quickchartButtonEl.style.display =\n",
              "        google.colab.kernel.accessAllowed ? 'block' : 'none';\n",
              "    })();\n",
              "  </script>\n",
              "</div>\n",
              "    </div>\n",
              "  </div>\n"
            ]
          },
          "metadata": {},
          "execution_count": 13
        }
      ],
      "source": [
        "X_test = X.tail(row-train_len)\n",
        "X_test"
      ]
    },
    {
      "cell_type": "code",
      "execution_count": null,
      "metadata": {
        "id": "rD_P5hlENLa4"
      },
      "outputs": [],
      "source": [
        "#Calculate percentage return\n",
        "returns = X_train.pct_change().dropna()\n",
        "returns_test=X_test.pct_change().dropna()"
      ]
    },
    {
      "cell_type": "code",
      "source": [
        "returns"
      ],
      "metadata": {
        "colab": {
          "base_uri": "https://localhost:8080/",
          "height": 423
        },
        "id": "iwgDMvxUSThI",
        "outputId": "b27c126d-88c3-473f-8714-a8291e61e5d8"
      },
      "execution_count": null,
      "outputs": [
        {
          "output_type": "execute_result",
          "data": {
            "text/plain": [
              "             INFY.NS    TCS.NS  WIPRO.NS  TECHM.NS  HCLTECH.NS   LTIM.NS  PERSISTENT.NS  \\\n",
              "2019-07-02  0.011897  0.005604  0.007979  0.009934    0.010390 -0.041575      -0.007222   \n",
              "2019-07-03 -0.011757 -0.006416 -0.004925 -0.014825   -0.008302 -0.016717       0.006703   \n",
              "2019-07-04  0.003419  0.002234  0.003535 -0.000713   -0.009941 -0.045758       0.007795   \n",
              "2019-07-05 -0.021532 -0.035471 -0.042276 -0.027833   -0.023397  0.005979       0.010635   \n",
              "2019-07-08 -0.000557  0.005686 -0.018209 -0.001101    0.022285 -0.020232      -0.021205   \n",
              "...              ...       ...       ...       ...         ...       ...            ...   \n",
              "2022-10-20  0.010401  0.011355  0.009126  0.022027    0.021845  0.013633       0.012027   \n",
              "2022-10-21 -0.000267 -0.006303  0.002752 -0.000480    0.009632  0.001397      -0.011034   \n",
              "2022-10-24  0.011563  0.007745  0.005620  0.006723    0.004284 -0.005656       0.011539   \n",
              "2022-10-25  0.005567  0.000127 -0.000130  0.032772   -0.004944  0.015069       0.032713   \n",
              "2022-10-27 -0.001540 -0.001486 -0.005200 -0.006143    0.005407 -0.027746      -0.015760   \n",
              "\n",
              "            COFORGE.NS  MPHASIS.NS     LT.NS  \n",
              "2019-07-02   -0.003591   -0.018219  0.004625  \n",
              "2019-07-03   -0.009065    0.016758  0.009080  \n",
              "2019-07-04    0.003374    0.005511 -0.004024  \n",
              "2019-07-05   -0.010948   -0.012520 -0.008494  \n",
              "2019-07-08   -0.009407   -0.016192 -0.043636  \n",
              "...                ...         ...       ...  \n",
              "2022-10-20    0.012053    0.017990 -0.000394  \n",
              "2022-10-21    0.000985   -0.048640 -0.014390  \n",
              "2022-10-24    0.003936   -0.002423  0.017584  \n",
              "2022-10-25    0.004642   -0.001766  0.020605  \n",
              "2022-10-27   -0.001823   -0.031680  0.007670  \n",
              "\n",
              "[824 rows x 10 columns]"
            ],
            "text/html": [
              "\n",
              "  <div id=\"df-293b8139-5e93-4095-97c7-d0c658e0ca9d\" class=\"colab-df-container\">\n",
              "    <div>\n",
              "<style scoped>\n",
              "    .dataframe tbody tr th:only-of-type {\n",
              "        vertical-align: middle;\n",
              "    }\n",
              "\n",
              "    .dataframe tbody tr th {\n",
              "        vertical-align: top;\n",
              "    }\n",
              "\n",
              "    .dataframe thead th {\n",
              "        text-align: right;\n",
              "    }\n",
              "</style>\n",
              "<table border=\"1\" class=\"dataframe\">\n",
              "  <thead>\n",
              "    <tr style=\"text-align: right;\">\n",
              "      <th></th>\n",
              "      <th>INFY.NS</th>\n",
              "      <th>TCS.NS</th>\n",
              "      <th>WIPRO.NS</th>\n",
              "      <th>TECHM.NS</th>\n",
              "      <th>HCLTECH.NS</th>\n",
              "      <th>LTIM.NS</th>\n",
              "      <th>PERSISTENT.NS</th>\n",
              "      <th>COFORGE.NS</th>\n",
              "      <th>MPHASIS.NS</th>\n",
              "      <th>LT.NS</th>\n",
              "    </tr>\n",
              "  </thead>\n",
              "  <tbody>\n",
              "    <tr>\n",
              "      <th>2019-07-02</th>\n",
              "      <td>0.011897</td>\n",
              "      <td>0.005604</td>\n",
              "      <td>0.007979</td>\n",
              "      <td>0.009934</td>\n",
              "      <td>0.010390</td>\n",
              "      <td>-0.041575</td>\n",
              "      <td>-0.007222</td>\n",
              "      <td>-0.003591</td>\n",
              "      <td>-0.018219</td>\n",
              "      <td>0.004625</td>\n",
              "    </tr>\n",
              "    <tr>\n",
              "      <th>2019-07-03</th>\n",
              "      <td>-0.011757</td>\n",
              "      <td>-0.006416</td>\n",
              "      <td>-0.004925</td>\n",
              "      <td>-0.014825</td>\n",
              "      <td>-0.008302</td>\n",
              "      <td>-0.016717</td>\n",
              "      <td>0.006703</td>\n",
              "      <td>-0.009065</td>\n",
              "      <td>0.016758</td>\n",
              "      <td>0.009080</td>\n",
              "    </tr>\n",
              "    <tr>\n",
              "      <th>2019-07-04</th>\n",
              "      <td>0.003419</td>\n",
              "      <td>0.002234</td>\n",
              "      <td>0.003535</td>\n",
              "      <td>-0.000713</td>\n",
              "      <td>-0.009941</td>\n",
              "      <td>-0.045758</td>\n",
              "      <td>0.007795</td>\n",
              "      <td>0.003374</td>\n",
              "      <td>0.005511</td>\n",
              "      <td>-0.004024</td>\n",
              "    </tr>\n",
              "    <tr>\n",
              "      <th>2019-07-05</th>\n",
              "      <td>-0.021532</td>\n",
              "      <td>-0.035471</td>\n",
              "      <td>-0.042276</td>\n",
              "      <td>-0.027833</td>\n",
              "      <td>-0.023397</td>\n",
              "      <td>0.005979</td>\n",
              "      <td>0.010635</td>\n",
              "      <td>-0.010948</td>\n",
              "      <td>-0.012520</td>\n",
              "      <td>-0.008494</td>\n",
              "    </tr>\n",
              "    <tr>\n",
              "      <th>2019-07-08</th>\n",
              "      <td>-0.000557</td>\n",
              "      <td>0.005686</td>\n",
              "      <td>-0.018209</td>\n",
              "      <td>-0.001101</td>\n",
              "      <td>0.022285</td>\n",
              "      <td>-0.020232</td>\n",
              "      <td>-0.021205</td>\n",
              "      <td>-0.009407</td>\n",
              "      <td>-0.016192</td>\n",
              "      <td>-0.043636</td>\n",
              "    </tr>\n",
              "    <tr>\n",
              "      <th>...</th>\n",
              "      <td>...</td>\n",
              "      <td>...</td>\n",
              "      <td>...</td>\n",
              "      <td>...</td>\n",
              "      <td>...</td>\n",
              "      <td>...</td>\n",
              "      <td>...</td>\n",
              "      <td>...</td>\n",
              "      <td>...</td>\n",
              "      <td>...</td>\n",
              "    </tr>\n",
              "    <tr>\n",
              "      <th>2022-10-20</th>\n",
              "      <td>0.010401</td>\n",
              "      <td>0.011355</td>\n",
              "      <td>0.009126</td>\n",
              "      <td>0.022027</td>\n",
              "      <td>0.021845</td>\n",
              "      <td>0.013633</td>\n",
              "      <td>0.012027</td>\n",
              "      <td>0.012053</td>\n",
              "      <td>0.017990</td>\n",
              "      <td>-0.000394</td>\n",
              "    </tr>\n",
              "    <tr>\n",
              "      <th>2022-10-21</th>\n",
              "      <td>-0.000267</td>\n",
              "      <td>-0.006303</td>\n",
              "      <td>0.002752</td>\n",
              "      <td>-0.000480</td>\n",
              "      <td>0.009632</td>\n",
              "      <td>0.001397</td>\n",
              "      <td>-0.011034</td>\n",
              "      <td>0.000985</td>\n",
              "      <td>-0.048640</td>\n",
              "      <td>-0.014390</td>\n",
              "    </tr>\n",
              "    <tr>\n",
              "      <th>2022-10-24</th>\n",
              "      <td>0.011563</td>\n",
              "      <td>0.007745</td>\n",
              "      <td>0.005620</td>\n",
              "      <td>0.006723</td>\n",
              "      <td>0.004284</td>\n",
              "      <td>-0.005656</td>\n",
              "      <td>0.011539</td>\n",
              "      <td>0.003936</td>\n",
              "      <td>-0.002423</td>\n",
              "      <td>0.017584</td>\n",
              "    </tr>\n",
              "    <tr>\n",
              "      <th>2022-10-25</th>\n",
              "      <td>0.005567</td>\n",
              "      <td>0.000127</td>\n",
              "      <td>-0.000130</td>\n",
              "      <td>0.032772</td>\n",
              "      <td>-0.004944</td>\n",
              "      <td>0.015069</td>\n",
              "      <td>0.032713</td>\n",
              "      <td>0.004642</td>\n",
              "      <td>-0.001766</td>\n",
              "      <td>0.020605</td>\n",
              "    </tr>\n",
              "    <tr>\n",
              "      <th>2022-10-27</th>\n",
              "      <td>-0.001540</td>\n",
              "      <td>-0.001486</td>\n",
              "      <td>-0.005200</td>\n",
              "      <td>-0.006143</td>\n",
              "      <td>0.005407</td>\n",
              "      <td>-0.027746</td>\n",
              "      <td>-0.015760</td>\n",
              "      <td>-0.001823</td>\n",
              "      <td>-0.031680</td>\n",
              "      <td>0.007670</td>\n",
              "    </tr>\n",
              "  </tbody>\n",
              "</table>\n",
              "<p>824 rows × 10 columns</p>\n",
              "</div>\n",
              "    <div class=\"colab-df-buttons\">\n",
              "\n",
              "  <div class=\"colab-df-container\">\n",
              "    <button class=\"colab-df-convert\" onclick=\"convertToInteractive('df-293b8139-5e93-4095-97c7-d0c658e0ca9d')\"\n",
              "            title=\"Convert this dataframe to an interactive table.\"\n",
              "            style=\"display:none;\">\n",
              "\n",
              "  <svg xmlns=\"http://www.w3.org/2000/svg\" height=\"24px\" viewBox=\"0 -960 960 960\">\n",
              "    <path d=\"M120-120v-720h720v720H120Zm60-500h600v-160H180v160Zm220 220h160v-160H400v160Zm0 220h160v-160H400v160ZM180-400h160v-160H180v160Zm440 0h160v-160H620v160ZM180-180h160v-160H180v160Zm440 0h160v-160H620v160Z\"/>\n",
              "  </svg>\n",
              "    </button>\n",
              "\n",
              "  <style>\n",
              "    .colab-df-container {\n",
              "      display:flex;\n",
              "      gap: 12px;\n",
              "    }\n",
              "\n",
              "    .colab-df-convert {\n",
              "      background-color: #E8F0FE;\n",
              "      border: none;\n",
              "      border-radius: 50%;\n",
              "      cursor: pointer;\n",
              "      display: none;\n",
              "      fill: #1967D2;\n",
              "      height: 32px;\n",
              "      padding: 0 0 0 0;\n",
              "      width: 32px;\n",
              "    }\n",
              "\n",
              "    .colab-df-convert:hover {\n",
              "      background-color: #E2EBFA;\n",
              "      box-shadow: 0px 1px 2px rgba(60, 64, 67, 0.3), 0px 1px 3px 1px rgba(60, 64, 67, 0.15);\n",
              "      fill: #174EA6;\n",
              "    }\n",
              "\n",
              "    .colab-df-buttons div {\n",
              "      margin-bottom: 4px;\n",
              "    }\n",
              "\n",
              "    [theme=dark] .colab-df-convert {\n",
              "      background-color: #3B4455;\n",
              "      fill: #D2E3FC;\n",
              "    }\n",
              "\n",
              "    [theme=dark] .colab-df-convert:hover {\n",
              "      background-color: #434B5C;\n",
              "      box-shadow: 0px 1px 3px 1px rgba(0, 0, 0, 0.15);\n",
              "      filter: drop-shadow(0px 1px 2px rgba(0, 0, 0, 0.3));\n",
              "      fill: #FFFFFF;\n",
              "    }\n",
              "  </style>\n",
              "\n",
              "    <script>\n",
              "      const buttonEl =\n",
              "        document.querySelector('#df-293b8139-5e93-4095-97c7-d0c658e0ca9d button.colab-df-convert');\n",
              "      buttonEl.style.display =\n",
              "        google.colab.kernel.accessAllowed ? 'block' : 'none';\n",
              "\n",
              "      async function convertToInteractive(key) {\n",
              "        const element = document.querySelector('#df-293b8139-5e93-4095-97c7-d0c658e0ca9d');\n",
              "        const dataTable =\n",
              "          await google.colab.kernel.invokeFunction('convertToInteractive',\n",
              "                                                    [key], {});\n",
              "        if (!dataTable) return;\n",
              "\n",
              "        const docLinkHtml = 'Like what you see? Visit the ' +\n",
              "          '<a target=\"_blank\" href=https://colab.research.google.com/notebooks/data_table.ipynb>data table notebook</a>'\n",
              "          + ' to learn more about interactive tables.';\n",
              "        element.innerHTML = '';\n",
              "        dataTable['output_type'] = 'display_data';\n",
              "        await google.colab.output.renderOutput(dataTable, element);\n",
              "        const docLink = document.createElement('div');\n",
              "        docLink.innerHTML = docLinkHtml;\n",
              "        element.appendChild(docLink);\n",
              "      }\n",
              "    </script>\n",
              "  </div>\n",
              "\n",
              "\n",
              "<div id=\"df-667f5623-6d46-44b5-b1cf-7ba3482b7f1d\">\n",
              "  <button class=\"colab-df-quickchart\" onclick=\"quickchart('df-667f5623-6d46-44b5-b1cf-7ba3482b7f1d')\"\n",
              "            title=\"Suggest charts.\"\n",
              "            style=\"display:none;\">\n",
              "\n",
              "<svg xmlns=\"http://www.w3.org/2000/svg\" height=\"24px\"viewBox=\"0 0 24 24\"\n",
              "     width=\"24px\">\n",
              "    <g>\n",
              "        <path d=\"M19 3H5c-1.1 0-2 .9-2 2v14c0 1.1.9 2 2 2h14c1.1 0 2-.9 2-2V5c0-1.1-.9-2-2-2zM9 17H7v-7h2v7zm4 0h-2V7h2v10zm4 0h-2v-4h2v4z\"/>\n",
              "    </g>\n",
              "</svg>\n",
              "  </button>\n",
              "\n",
              "<style>\n",
              "  .colab-df-quickchart {\n",
              "    background-color: #E8F0FE;\n",
              "    border: none;\n",
              "    border-radius: 50%;\n",
              "    cursor: pointer;\n",
              "    display: none;\n",
              "    fill: #1967D2;\n",
              "    height: 32px;\n",
              "    padding: 0 0 0 0;\n",
              "    width: 32px;\n",
              "  }\n",
              "\n",
              "  .colab-df-quickchart:hover {\n",
              "    background-color: #E2EBFA;\n",
              "    box-shadow: 0px 1px 2px rgba(60, 64, 67, 0.3), 0px 1px 3px 1px rgba(60, 64, 67, 0.15);\n",
              "    fill: #174EA6;\n",
              "  }\n",
              "\n",
              "  [theme=dark] .colab-df-quickchart {\n",
              "    background-color: #3B4455;\n",
              "    fill: #D2E3FC;\n",
              "  }\n",
              "\n",
              "  [theme=dark] .colab-df-quickchart:hover {\n",
              "    background-color: #434B5C;\n",
              "    box-shadow: 0px 1px 3px 1px rgba(0, 0, 0, 0.15);\n",
              "    filter: drop-shadow(0px 1px 2px rgba(0, 0, 0, 0.3));\n",
              "    fill: #FFFFFF;\n",
              "  }\n",
              "</style>\n",
              "\n",
              "  <script>\n",
              "    async function quickchart(key) {\n",
              "      const charts = await google.colab.kernel.invokeFunction(\n",
              "          'suggestCharts', [key], {});\n",
              "    }\n",
              "    (() => {\n",
              "      let quickchartButtonEl =\n",
              "        document.querySelector('#df-667f5623-6d46-44b5-b1cf-7ba3482b7f1d button');\n",
              "      quickchartButtonEl.style.display =\n",
              "        google.colab.kernel.accessAllowed ? 'block' : 'none';\n",
              "    })();\n",
              "  </script>\n",
              "</div>\n",
              "    </div>\n",
              "  </div>\n"
            ]
          },
          "metadata": {},
          "execution_count": 15
        }
      ]
    },
    {
      "cell_type": "markdown",
      "metadata": {
        "id": "R-S6nYN5NLa4"
      },
      "source": [
        "The parameters to clusters are the indices and the variables used in the clustering are the columns. Hence the data is in the right format to be fed to the clustering algorithms."
      ]
    },
    {
      "cell_type": "markdown",
      "metadata": {
        "id": "KIVfGgPANLa4"
      },
      "source": [
        "<a id='4'></a>\n",
        "## 4. Evaluate the Models"
      ]
    },
    {
      "cell_type": "markdown",
      "metadata": {
        "id": "rGUB-Qj1NLa4"
      },
      "source": [
        "<a id='4.1'></a>\n",
        "### 4.1. Building Dendrogram for the HRP Model"
      ]
    },
    {
      "cell_type": "markdown",
      "metadata": {
        "id": "H0zqfA0rNLa4"
      },
      "source": [
        "The first step is to look for clusters of correlated stcoks using the agglomerate hierarchical clustering technique. The hierarchy class\n",
        "has a dendrogram method which takes the value returned by the linkage method of\n",
        "the same class.\n",
        "\n",
        "Linkage does the actual clustering in one line of code, and returns a list of the clusters joined in the format: Z=[stock_1, stock_2, distance, sample_count]"
      ]
    },
    {
      "cell_type": "markdown",
      "metadata": {
        "id": "lD3pVgIMNLa4"
      },
      "source": [
        "#### Correlation Computation"
      ]
    },
    {
      "cell_type": "code",
      "execution_count": null,
      "metadata": {
        "id": "Zs5zfg3jNLa4"
      },
      "outputs": [],
      "source": [
        "def correlDist(corr):\n",
        "    # A distance matrix based on correlation, where 0<=d[i,j]<=1\n",
        "    # This is a proper distance metric\n",
        "    dist = ((1 - corr) / 2.)**.5  # distance matrix\n",
        "    return dist"
      ]
    },
    {
      "cell_type": "code",
      "execution_count": null,
      "metadata": {
        "colab": {
          "base_uri": "https://localhost:8080/"
        },
        "id": "uCt7Y-FBNLa5",
        "outputId": "a26b7ed4-e7bd-4faf-af91-8b8c486e2dc6"
      },
      "outputs": [
        {
          "output_type": "execute_result",
          "data": {
            "text/plain": [
              "array([0.        , 4.        , 0.58636548, 2.        ])"
            ]
          },
          "metadata": {},
          "execution_count": 17
        }
      ],
      "source": [
        "#Calulate linkage\n",
        "dist = correlDist(returns.corr())\n",
        "link = linkage(dist, 'ward')\n",
        "link[0]"
      ]
    },
    {
      "cell_type": "code",
      "source": [
        "link.shape"
      ],
      "metadata": {
        "id": "ilfmcj8KSzGh",
        "outputId": "39051410-47f6-4cde-c88e-24904520100d",
        "colab": {
          "base_uri": "https://localhost:8080/"
        }
      },
      "execution_count": null,
      "outputs": [
        {
          "output_type": "execute_result",
          "data": {
            "text/plain": [
              "(9, 4)"
            ]
          },
          "metadata": {},
          "execution_count": 18
        }
      ]
    },
    {
      "cell_type": "markdown",
      "metadata": {
        "id": "ct1BBuXQNLa5"
      },
      "source": [
        "Computation of linkages is followed by the visualization of the clusters through a dendrogram, which displays a cluster tree.\n",
        "The leaves are the individual stocks and the root represents the final single cluster. The “distance” between each cluster is shown along the y-axis, and thus the longer the branches indicate less correlated clusters of stcoks."
      ]
    },
    {
      "cell_type": "code",
      "execution_count": null,
      "metadata": {
        "colab": {
          "base_uri": "https://localhost:8080/",
          "height": 536
        },
        "id": "CmzXlyIkNLa5",
        "outputId": "d755321d-c5d8-473f-b2b6-62705590e0e3"
      },
      "outputs": [
        {
          "output_type": "display_data",
          "data": {
            "text/plain": [
              "<Figure size 2000x700 with 1 Axes>"
            ],
            "image/png": "[encoded data removed]"
          },
          "metadata": {}
        }
      ],
      "source": [
        "#Plot Dendogram\n",
        "plt.figure(figsize=(20, 7))\n",
        "#plt.title(\"Dendrograms\")\n",
        "dendrogram(link,labels = X.columns, leaf_font_size=14)\n",
        "plt.show()"
      ]
    },
    {
      "cell_type": "markdown",
      "metadata": {
        "id": "R-6LUM-ZNLa5"
      },
      "source": [
        "<a id='4.2'></a>\n",
        "### 4.2 Steps involved in the HRP Model Design"
      ]
    },
    {
      "cell_type": "markdown",
      "metadata": {
        "id": "lDUEuLtiNLa5"
      },
      "source": [
        "#### Quasi-Diagonalization and Weights Computation for HRP"
      ]
    },
    {
      "cell_type": "markdown",
      "metadata": {
        "id": "A6cJYXVuNLa5"
      },
      "source": [
        "\n",
        "Quasi-diagonalization is a matrix seriation process used in hierarchical clustering. The process involves reorganizing the covariance matrix of returns in such a way that stocks with similar returns are placed together. This matrix diagonalization allows us to distribute weights optimally following an inverse-variance allocation. For more details refer to Chapter 4 of the book."
      ]
    },
    {
      "cell_type": "code",
      "execution_count": null,
      "metadata": {
        "id": "CQbkTkdkNLa6"
      },
      "outputs": [],
      "source": [
        "def getQuasiDiag(link):\n",
        "    # Sort clustered items by distance\n",
        "    link = link.astype(int)\n",
        "    sortIx = pd.Series([link[-1, 0], link[-1, 1]])\n",
        "    numItems = link[-1, 3]  # number of original items\n",
        "    while sortIx.max() >= numItems:\n",
        "        sortIx.index = range(0, sortIx.shape[0] * 2, 2)  # make space\n",
        "        df0 = sortIx[sortIx >= numItems]  # find clusters\n",
        "        i = df0.index\n",
        "        j = df0.values - numItems\n",
        "        sortIx[i] = link[j, 0]  # item 1\n",
        "        df0 = pd.Series(link[j, 1], index=i + 1)\n",
        "        sortIx = sortIx.append(df0)  # item 2\n",
        "        sortIx = sortIx.sort_index()  # re-sort\n",
        "        sortIx.index = range(sortIx.shape[0])  # re-index\n",
        "    return sortIx.tolist()"
      ]
    },
    {
      "cell_type": "markdown",
      "metadata": {
        "id": "1ghPW5RsNLa6"
      },
      "source": [
        "#### Recursive Bisection"
      ]
    },
    {
      "cell_type": "markdown",
      "metadata": {
        "id": "zsHNvbuXNLa-"
      },
      "source": [
        "This step distributes the weights through recursive bisection based on the cluster covariance."
      ]
    },
    {
      "cell_type": "code",
      "execution_count": null,
      "metadata": {
        "id": "gRzzRWVVNLa-"
      },
      "outputs": [],
      "source": [
        "def getClusterVar(cov,cItems):\n",
        "    # Compute variance per cluster\n",
        "    cov_=cov.loc[cItems,cItems] # matrix slice\n",
        "    w_=getIVP(cov_).reshape(-1,1)\n",
        "    cVar=np.dot(np.dot(w_.T,cov_),w_)[0,0]\n",
        "    return cVar\n",
        "\n",
        "\n",
        "\n",
        "def getRecBipart(cov, sortIx):\n",
        "    # Compute HRP alloc\n",
        "    w = pd.Series(1, index=sortIx)\n",
        "    cItems = [sortIx]  # initialize all items in one cluster\n",
        "    while len(cItems) > 0:\n",
        "        cItems = [i[j:k] for i in cItems for j, k in ((0, len(i) // 2), (len(i) // 2, len(i))) if len(i) > 1]  # bi-section\n",
        "        for i in range(0, len(cItems), 2):  # parse in pairs\n",
        "            cItems0 = cItems[i]  # cluster 1\n",
        "            cItems1 = cItems[i + 1]  # cluster 2\n",
        "            cVar0 = getClusterVar(cov, cItems0)\n",
        "            cVar1 = getClusterVar(cov, cItems1)\n",
        "            alpha = 1 - cVar0 / (cVar0 + cVar1)\n",
        "            w[cItems0] *= alpha  # weight 1\n",
        "            w[cItems1] *= 1 - alpha  # weight 2\n",
        "    return w"
      ]
    },
    {
      "cell_type": "markdown",
      "metadata": {
        "id": "5qKie5yGNLa-"
      },
      "source": [
        "#### Comparison of HRP with MVP"
      ]
    },
    {
      "cell_type": "markdown",
      "metadata": {
        "id": "T94bwDQ1NLa-"
      },
      "source": [
        "So, in this step, python functions are defined for comparing the following two portfolio design approaches.\n",
        "\n",
        "    1. MVP - Markowitz’s Minimum-Variance Portfolio\n",
        "    2. HRP - Hierarchial Risk Parity"
      ]
    },
    {
      "cell_type": "code",
      "execution_count": null,
      "metadata": {
        "id": "qW2Ec_LRNLa_"
      },
      "outputs": [],
      "source": [
        "def getMVP(cov):\n",
        "\n",
        "    cov = cov.T.values\n",
        "    n = len(cov)\n",
        "    N = 100\n",
        "    mus = [10 ** (5.0 * t / N - 1.0) for t in range(N)]\n",
        "\n",
        "    # Convert to cvxopt matrices\n",
        "    S = opt.matrix(cov)\n",
        "    #pbar = opt.matrix(np.mean(returns, axis=1))\n",
        "    pbar = opt.matrix(np.ones(cov.shape[0]))\n",
        "\n",
        "    # Create constraint matrices\n",
        "    G = -opt.matrix(np.eye(n))  # negative n x n identity matrix\n",
        "    h = opt.matrix(0.0, (n, 1))\n",
        "    A = opt.matrix(1.0, (1, n))\n",
        "    b = opt.matrix(1.0)\n",
        "\n",
        "\n",
        "    # Calculate efficient frontier weights using quadratic programming\n",
        "    solvers.options['show_progress'] = False\n",
        "    portfolios = [solvers.qp(mu * S, -pbar, G, h, A, b)['x']\n",
        "                  for mu in mus]\n",
        "    ## CALCULATE RISKS AND RETURNS FOR FRONTIER\n",
        "    returns = [blas.dot(pbar, x) for x in portfolios]\n",
        "    risks = [np.sqrt(blas.dot(x, S * x)) for x in portfolios]\n",
        "    ## CALCULATE THE 2ND DEGREE POLYNOMIAL OF THE FRONTIER CURVE\n",
        "    m1 = np.polyfit(returns, risks, 2)\n",
        "    x1 = np.sqrt(m1[2] / m1[0])\n",
        "    # CALCULATE THE OPTIMAL PORTFOLIO\n",
        "    wt = solvers.qp(opt.matrix(x1 * S), -pbar, G, h, A, b)['x']\n",
        "\n",
        "    return list(wt)\n",
        "\n",
        "def getIVP(cov, **kargs):\n",
        "    # Compute the inverse-variance portfolio\n",
        "    ivp = 1. / np.diag(cov)\n",
        "    ivp /= ivp.sum()\n",
        "    return ivp\n",
        "\n",
        "def getHRP(cov, corr):\n",
        "    # Construct a hierarchical portfolio\n",
        "    dist = correlDist(corr)\n",
        "    link = sch.linkage(dist, 'single')\n",
        "    #plt.figure(figsize=(20, 10))\n",
        "    #dn = sch.dendrogram(link, labels=cov.index.values)\n",
        "    #plt.show()\n",
        "    sortIx = getQuasiDiag(link)\n",
        "    sortIx = corr.index[sortIx].tolist()\n",
        "    hrp = getRecBipart(cov, sortIx)\n",
        "    return hrp.sort_index()"
      ]
    },
    {
      "cell_type": "markdown",
      "metadata": {
        "id": "V7UcjLWMNLa_"
      },
      "source": [
        "#### Computation of the Weight Allocation for the Portfolios"
      ]
    },
    {
      "cell_type": "code",
      "execution_count": null,
      "metadata": {
        "id": "MATXeGU6NLa_"
      },
      "outputs": [],
      "source": [
        "def get_all_portfolios(returns):\n",
        "\n",
        "    cov, corr = returns.cov(), returns.corr()\n",
        "    hrp = getHRP(cov, corr)\n",
        "    mvp = getMVP(cov)\n",
        "    mvp = pd.Series(mvp, index=cov.index)\n",
        "    portfolios = pd.DataFrame([mvp, hrp], index=['MVP', 'HRP']).T\n",
        "    #portfolios = pd.DataFrame([ivp, hrp], index=['IVP', 'HRP']).T\n",
        "    return portfolios"
      ]
    },
    {
      "cell_type": "code",
      "execution_count": null,
      "metadata": {
        "id": "CPTImSo9NLa_",
        "outputId": "0a45f206-7587-4014-d312-b469c30013eb",
        "colab": {
          "base_uri": "https://localhost:8080/"
        }
      },
      "outputs": [
        {
          "output_type": "stream",
          "name": "stdout",
          "text": [
            "                    MVP       HRP\n",
            "INFY.NS        0.034880  0.069590\n",
            "TCS.NS         0.341307  0.164916\n",
            "WIPRO.NS       0.091719  0.122495\n",
            "TECHM.NS       0.013923  0.103536\n",
            "HCLTECH.NS     0.080864  0.075270\n",
            "LTIM.NS        0.013019  0.058857\n",
            "PERSISTENT.NS  0.073788  0.108573\n",
            "COFORGE.NS     0.001285  0.036156\n",
            "MPHASIS.NS     0.057554  0.094922\n",
            "LT.NS          0.291660  0.165685\n"
          ]
        }
      ],
      "source": [
        "portfolios = get_all_portfolios(returns)\n",
        "print(portfolios)"
      ]
    },
    {
      "cell_type": "code",
      "execution_count": null,
      "metadata": {
        "id": "jocVtj_NNLa_",
        "outputId": "ba26255a-bfe2-40dc-fe22-503f50948e2d",
        "colab": {
          "base_uri": "https://localhost:8080/",
          "height": 672
        }
      },
      "outputs": [
        {
          "output_type": "execute_result",
          "data": {
            "text/plain": [
              "Text(0.5, 1.0, 'HRP')"
            ]
          },
          "metadata": {},
          "execution_count": 25
        },
        {
          "output_type": "display_data",
          "data": {
            "text/plain": [
              "<Figure size 3000x2000 with 2 Axes>"
            ],
            "image/png": "[encoded data removed]"
          },
          "metadata": {}
        }
      ],
      "source": [
        "fig, (ax1, ax2) = plt.subplots(1, 2,figsize=(30,20))\n",
        "ax1.pie(portfolios.iloc[:,0], labels= portfolios.index, autopct='%.2f', textprops={'fontsize': 20});\n",
        "ax1.set_title('MVP',fontsize = 30)\n",
        "ax2.pie(portfolios.iloc[:,1], labels=portfolios.index, autopct='%.2f', textprops={'fontsize': 20});\n",
        "ax2.set_title('HRP',fontsize = 30)\n",
        "#portfolios.plot.pie(subplots=True, figsize=(20, 10),legend = False);"
      ]
    },
    {
      "cell_type": "code",
      "execution_count": null,
      "metadata": {
        "id": "kesH5dkRNLa_",
        "outputId": "ca7b0bcf-4e71-45cc-eb8d-7dc5e11d6612",
        "colab": {
          "base_uri": "https://localhost:8080/"
        }
      },
      "outputs": [
        {
          "output_type": "execute_result",
          "data": {
            "text/plain": [
              "INFY.NS          0.034880\n",
              "TCS.NS           0.341307\n",
              "WIPRO.NS         0.091719\n",
              "TECHM.NS         0.013923\n",
              "HCLTECH.NS       0.080864\n",
              "LTIM.NS          0.013019\n",
              "PERSISTENT.NS    0.073788\n",
              "COFORGE.NS       0.001285\n",
              "MPHASIS.NS       0.057554\n",
              "LT.NS            0.291660\n",
              "Name: MVP, dtype: float64"
            ]
          },
          "metadata": {},
          "execution_count": 26
        }
      ],
      "source": [
        "# MVP - Markowitz’s Minimum-Variance Portfolio Weights\n",
        "portfolios.iloc[:,0]"
      ]
    },
    {
      "cell_type": "code",
      "execution_count": null,
      "metadata": {
        "id": "ezy9caPaNLbA",
        "outputId": "0164eb78-e464-4314-8417-6ec3c712fecd",
        "colab": {
          "base_uri": "https://localhost:8080/"
        }
      },
      "outputs": [
        {
          "output_type": "execute_result",
          "data": {
            "text/plain": [
              "INFY.NS          0.069590\n",
              "TCS.NS           0.164916\n",
              "WIPRO.NS         0.122495\n",
              "TECHM.NS         0.103536\n",
              "HCLTECH.NS       0.075270\n",
              "LTIM.NS          0.058857\n",
              "PERSISTENT.NS    0.108573\n",
              "COFORGE.NS       0.036156\n",
              "MPHASIS.NS       0.094922\n",
              "LT.NS            0.165685\n",
              "Name: HRP, dtype: float64"
            ]
          },
          "metadata": {},
          "execution_count": 27
        }
      ],
      "source": [
        "# HRP - Hierarchial Risk Parity Portfolio Weights\n",
        "portfolios.iloc[:,1]"
      ]
    },
    {
      "cell_type": "markdown",
      "metadata": {
        "id": "6Ul4SyJtNLbA"
      },
      "source": [
        "<a id='5'></a>\n",
        "## 5. Performance Evaluation of the Portfolios"
      ]
    },
    {
      "cell_type": "markdown",
      "metadata": {
        "id": "psazlJntNLbA"
      },
      "source": [
        "### 5.1 Cumulative Returns - Training and Test Data"
      ]
    },
    {
      "cell_type": "code",
      "execution_count": null,
      "metadata": {
        "id": "PaVjz6r5NLbA"
      },
      "outputs": [],
      "source": [
        "Insample_Result=pd.DataFrame(np.dot(returns,np.array(portfolios)), \\\n",
        "                             columns=['MVP', 'HRP'], index = returns.index)\n",
        "OutOfSample_Result=pd.DataFrame(np.dot(returns_test,np.array(portfolios)), \\\n",
        "                                columns=['MVP', 'HRP'], index = returns_test.index)"
      ]
    },
    {
      "cell_type": "code",
      "execution_count": null,
      "metadata": {
        "id": "nhpz7Z95NLbA",
        "outputId": "2181a905-76e8-4891-d2a9-7ccea63bc2e2",
        "colab": {
          "base_uri": "https://localhost:8080/",
          "height": 890
        }
      },
      "outputs": [
        {
          "output_type": "execute_result",
          "data": {
            "text/plain": [
              "<Axes: ylabel='Return'>"
            ]
          },
          "metadata": {},
          "execution_count": 29
        },
        {
          "output_type": "display_data",
          "data": {
            "text/plain": [
              "<Figure size 1000x500 with 1 Axes>"
            ],
            "image/png": "[encoded data removed]"
          },
          "metadata": {}
        },
        {
          "output_type": "display_data",
          "data": {
            "text/plain": [
              "<Figure size 1000x500 with 1 Axes>"
            ],
            "image/png": "[encoded data removed]"
          },
          "metadata": {}
        }
      ],
      "source": [
        "Insample_Result.cumsum().plot(figsize=(10, 5), ylabel = \"Return\")\n",
        "OutOfSample_Result.cumsum().plot(figsize=(10, 5), ylabel = \"Return\")"
      ]
    },
    {
      "cell_type": "code",
      "execution_count": null,
      "metadata": {
        "id": "_5rfOR8oNLbA",
        "outputId": "8c2b3d27-f268-43ed-bb29-8ae74793509e",
        "colab": {
          "base_uri": "https://localhost:8080/"
        }
      },
      "outputs": [
        {
          "output_type": "execute_result",
          "data": {
            "text/plain": [
              "MVP    0.197062\n",
              "HRP    0.250332\n",
              "dtype: float64"
            ]
          },
          "metadata": {},
          "execution_count": 30
        }
      ],
      "source": [
        "ret_insample=Insample_Result.mean() * 252\n",
        "ret_insample"
      ]
    },
    {
      "cell_type": "code",
      "execution_count": null,
      "metadata": {
        "id": "TEi5-gzlNLbA",
        "outputId": "118eb042-5b0c-440a-c110-7ec37e5d5e76",
        "colab": {
          "base_uri": "https://localhost:8080/"
        }
      },
      "outputs": [
        {
          "output_type": "execute_result",
          "data": {
            "text/plain": [
              "MVP    0.150186\n",
              "HRP    0.148412\n",
              "dtype: float64"
            ]
          },
          "metadata": {},
          "execution_count": 31
        }
      ],
      "source": [
        "ret_out_of_sample = OutOfSample_Result.mean() * 252\n",
        "ret_out_of_sample"
      ]
    },
    {
      "cell_type": "markdown",
      "metadata": {
        "id": "EWQWkMaKNLbB"
      },
      "source": [
        "###  5.2 Sharpe Ratio and Annual Volatility - Training and Test Data"
      ]
    },
    {
      "cell_type": "code",
      "execution_count": null,
      "metadata": {
        "id": "mvdzkHb3NLbB",
        "outputId": "034b6c99-f6a5-4f18-9c81-b6beaabda5d5",
        "colab": {
          "base_uri": "https://localhost:8080/",
          "height": 112
        }
      },
      "outputs": [
        {
          "output_type": "execute_result",
          "data": {
            "text/plain": [
              "        stdev  sharp_ratio\n",
              "MVP  0.223920     0.880058\n",
              "HRP  0.237032     1.056109"
            ],
            "text/html": [
              "\n",
              "  <div id=\"df-00dd1b5a-39b7-45bb-a066-7f0857c0b5fb\" class=\"colab-df-container\">\n",
              "    <div>\n",
              "<style scoped>\n",
              "    .dataframe tbody tr th:only-of-type {\n",
              "        vertical-align: middle;\n",
              "    }\n",
              "\n",
              "    .dataframe tbody tr th {\n",
              "        vertical-align: top;\n",
              "    }\n",
              "\n",
              "    .dataframe thead th {\n",
              "        text-align: right;\n",
              "    }\n",
              "</style>\n",
              "<table border=\"1\" class=\"dataframe\">\n",
              "  <thead>\n",
              "    <tr style=\"text-align: right;\">\n",
              "      <th></th>\n",
              "      <th>stdev</th>\n",
              "      <th>sharp_ratio</th>\n",
              "    </tr>\n",
              "  </thead>\n",
              "  <tbody>\n",
              "    <tr>\n",
              "      <th>MVP</th>\n",
              "      <td>0.223920</td>\n",
              "      <td>0.880058</td>\n",
              "    </tr>\n",
              "    <tr>\n",
              "      <th>HRP</th>\n",
              "      <td>0.237032</td>\n",
              "      <td>1.056109</td>\n",
              "    </tr>\n",
              "  </tbody>\n",
              "</table>\n",
              "</div>\n",
              "    <div class=\"colab-df-buttons\">\n",
              "\n",
              "  <div class=\"colab-df-container\">\n",
              "    <button class=\"colab-df-convert\" onclick=\"convertToInteractive('df-00dd1b5a-39b7-45bb-a066-7f0857c0b5fb')\"\n",
              "            title=\"Convert this dataframe to an interactive table.\"\n",
              "            style=\"display:none;\">\n",
              "\n",
              "  <svg xmlns=\"http://www.w3.org/2000/svg\" height=\"24px\" viewBox=\"0 -960 960 960\">\n",
              "    <path d=\"M120-120v-720h720v720H120Zm60-500h600v-160H180v160Zm220 220h160v-160H400v160Zm0 220h160v-160H400v160ZM180-400h160v-160H180v160Zm440 0h160v-160H620v160ZM180-180h160v-160H180v160Zm440 0h160v-160H620v160Z\"/>\n",
              "  </svg>\n",
              "    </button>\n",
              "\n",
              "  <style>\n",
              "    .colab-df-container {\n",
              "      display:flex;\n",
              "      gap: 12px;\n",
              "    }\n",
              "\n",
              "    .colab-df-convert {\n",
              "      background-color: #E8F0FE;\n",
              "      border: none;\n",
              "      border-radius: 50%;\n",
              "      cursor: pointer;\n",
              "      display: none;\n",
              "      fill: #1967D2;\n",
              "      height: 32px;\n",
              "      padding: 0 0 0 0;\n",
              "      width: 32px;\n",
              "    }\n",
              "\n",
              "    .colab-df-convert:hover {\n",
              "      background-color: #E2EBFA;\n",
              "      box-shadow: 0px 1px 2px rgba(60, 64, 67, 0.3), 0px 1px 3px 1px rgba(60, 64, 67, 0.15);\n",
              "      fill: #174EA6;\n",
              "    }\n",
              "\n",
              "    .colab-df-buttons div {\n",
              "      margin-bottom: 4px;\n",
              "    }\n",
              "\n",
              "    [theme=dark] .colab-df-convert {\n",
              "      background-color: #3B4455;\n",
              "      fill: #D2E3FC;\n",
              "    }\n",
              "\n",
              "    [theme=dark] .colab-df-convert:hover {\n",
              "      background-color: #434B5C;\n",
              "      box-shadow: 0px 1px 3px 1px rgba(0, 0, 0, 0.15);\n",
              "      filter: drop-shadow(0px 1px 2px rgba(0, 0, 0, 0.3));\n",
              "      fill: #FFFFFF;\n",
              "    }\n",
              "  </style>\n",
              "\n",
              "    <script>\n",
              "      const buttonEl =\n",
              "        document.querySelector('#df-00dd1b5a-39b7-45bb-a066-7f0857c0b5fb button.colab-df-convert');\n",
              "      buttonEl.style.display =\n",
              "        google.colab.kernel.accessAllowed ? 'block' : 'none';\n",
              "\n",
              "      async function convertToInteractive(key) {\n",
              "        const element = document.querySelector('#df-00dd1b5a-39b7-45bb-a066-7f0857c0b5fb');\n",
              "        const dataTable =\n",
              "          await google.colab.kernel.invokeFunction('convertToInteractive',\n",
              "                                                    [key], {});\n",
              "        if (!dataTable) return;\n",
              "\n",
              "        const docLinkHtml = 'Like what you see? Visit the ' +\n",
              "          '<a target=\"_blank\" href=https://colab.research.google.com/notebooks/data_table.ipynb>data table notebook</a>'\n",
              "          + ' to learn more about interactive tables.';\n",
              "        element.innerHTML = '';\n",
              "        dataTable['output_type'] = 'display_data';\n",
              "        await google.colab.output.renderOutput(dataTable, element);\n",
              "        const docLink = document.createElement('div');\n",
              "        docLink.innerHTML = docLinkHtml;\n",
              "        element.appendChild(docLink);\n",
              "      }\n",
              "    </script>\n",
              "  </div>\n",
              "\n",
              "\n",
              "<div id=\"df-b97526bc-6856-4cd1-bb74-c022300da025\">\n",
              "  <button class=\"colab-df-quickchart\" onclick=\"quickchart('df-b97526bc-6856-4cd1-bb74-c022300da025')\"\n",
              "            title=\"Suggest charts.\"\n",
              "            style=\"display:none;\">\n",
              "\n",
              "<svg xmlns=\"http://www.w3.org/2000/svg\" height=\"24px\"viewBox=\"0 0 24 24\"\n",
              "     width=\"24px\">\n",
              "    <g>\n",
              "        <path d=\"M19 3H5c-1.1 0-2 .9-2 2v14c0 1.1.9 2 2 2h14c1.1 0 2-.9 2-2V5c0-1.1-.9-2-2-2zM9 17H7v-7h2v7zm4 0h-2V7h2v10zm4 0h-2v-4h2v4z\"/>\n",
              "    </g>\n",
              "</svg>\n",
              "  </button>\n",
              "\n",
              "<style>\n",
              "  .colab-df-quickchart {\n",
              "    background-color: #E8F0FE;\n",
              "    border: none;\n",
              "    border-radius: 50%;\n",
              "    cursor: pointer;\n",
              "    display: none;\n",
              "    fill: #1967D2;\n",
              "    height: 32px;\n",
              "    padding: 0 0 0 0;\n",
              "    width: 32px;\n",
              "  }\n",
              "\n",
              "  .colab-df-quickchart:hover {\n",
              "    background-color: #E2EBFA;\n",
              "    box-shadow: 0px 1px 2px rgba(60, 64, 67, 0.3), 0px 1px 3px 1px rgba(60, 64, 67, 0.15);\n",
              "    fill: #174EA6;\n",
              "  }\n",
              "\n",
              "  [theme=dark] .colab-df-quickchart {\n",
              "    background-color: #3B4455;\n",
              "    fill: #D2E3FC;\n",
              "  }\n",
              "\n",
              "  [theme=dark] .colab-df-quickchart:hover {\n",
              "    background-color: #434B5C;\n",
              "    box-shadow: 0px 1px 3px 1px rgba(0, 0, 0, 0.15);\n",
              "    filter: drop-shadow(0px 1px 2px rgba(0, 0, 0, 0.3));\n",
              "    fill: #FFFFFF;\n",
              "  }\n",
              "</style>\n",
              "\n",
              "  <script>\n",
              "    async function quickchart(key) {\n",
              "      const charts = await google.colab.kernel.invokeFunction(\n",
              "          'suggestCharts', [key], {});\n",
              "    }\n",
              "    (() => {\n",
              "      let quickchartButtonEl =\n",
              "        document.querySelector('#df-b97526bc-6856-4cd1-bb74-c022300da025 button');\n",
              "      quickchartButtonEl.style.display =\n",
              "        google.colab.kernel.accessAllowed ? 'block' : 'none';\n",
              "    })();\n",
              "  </script>\n",
              "</div>\n",
              "    </div>\n",
              "  </div>\n"
            ]
          },
          "metadata": {},
          "execution_count": 32
        }
      ],
      "source": [
        "#In_sample Results\n",
        "stddev = Insample_Result.std() * np.sqrt(252)\n",
        "sharp_ratio = (Insample_Result.mean()*np.sqrt(252))/(Insample_Result).std()\n",
        "Results = pd.DataFrame(dict(stdev=stddev, sharp_ratio = sharp_ratio))\n",
        "Results"
      ]
    },
    {
      "cell_type": "code",
      "execution_count": null,
      "metadata": {
        "id": "zFpKRy0xNLbB",
        "outputId": "bcdfe5f6-9142-4f20-c2dc-6e4e5d853c67",
        "colab": {
          "base_uri": "https://localhost:8080/",
          "height": 112
        }
      },
      "outputs": [
        {
          "output_type": "execute_result",
          "data": {
            "text/plain": [
              "     stdev_oos  sharp_ratio_oos\n",
              "MVP   0.145093         1.035099\n",
              "HRP   0.164088         0.904467"
            ],
            "text/html": [
              "\n",
              "  <div id=\"df-a02ed56e-602f-401f-bdeb-54c0f47ff1b0\" class=\"colab-df-container\">\n",
              "    <div>\n",
              "<style scoped>\n",
              "    .dataframe tbody tr th:only-of-type {\n",
              "        vertical-align: middle;\n",
              "    }\n",
              "\n",
              "    .dataframe tbody tr th {\n",
              "        vertical-align: top;\n",
              "    }\n",
              "\n",
              "    .dataframe thead th {\n",
              "        text-align: right;\n",
              "    }\n",
              "</style>\n",
              "<table border=\"1\" class=\"dataframe\">\n",
              "  <thead>\n",
              "    <tr style=\"text-align: right;\">\n",
              "      <th></th>\n",
              "      <th>stdev_oos</th>\n",
              "      <th>sharp_ratio_oos</th>\n",
              "    </tr>\n",
              "  </thead>\n",
              "  <tbody>\n",
              "    <tr>\n",
              "      <th>MVP</th>\n",
              "      <td>0.145093</td>\n",
              "      <td>1.035099</td>\n",
              "    </tr>\n",
              "    <tr>\n",
              "      <th>HRP</th>\n",
              "      <td>0.164088</td>\n",
              "      <td>0.904467</td>\n",
              "    </tr>\n",
              "  </tbody>\n",
              "</table>\n",
              "</div>\n",
              "    <div class=\"colab-df-buttons\">\n",
              "\n",
              "  <div class=\"colab-df-container\">\n",
              "    <button class=\"colab-df-convert\" onclick=\"convertToInteractive('df-a02ed56e-602f-401f-bdeb-54c0f47ff1b0')\"\n",
              "            title=\"Convert this dataframe to an interactive table.\"\n",
              "            style=\"display:none;\">\n",
              "\n",
              "  <svg xmlns=\"http://www.w3.org/2000/svg\" height=\"24px\" viewBox=\"0 -960 960 960\">\n",
              "    <path d=\"M120-120v-720h720v720H120Zm60-500h600v-160H180v160Zm220 220h160v-160H400v160Zm0 220h160v-160H400v160ZM180-400h160v-160H180v160Zm440 0h160v-160H620v160ZM180-180h160v-160H180v160Zm440 0h160v-160H620v160Z\"/>\n",
              "  </svg>\n",
              "    </button>\n",
              "\n",
              "  <style>\n",
              "    .colab-df-container {\n",
              "      display:flex;\n",
              "      gap: 12px;\n",
              "    }\n",
              "\n",
              "    .colab-df-convert {\n",
              "      background-color: #E8F0FE;\n",
              "      border: none;\n",
              "      border-radius: 50%;\n",
              "      cursor: pointer;\n",
              "      display: none;\n",
              "      fill: #1967D2;\n",
              "      height: 32px;\n",
              "      padding: 0 0 0 0;\n",
              "      width: 32px;\n",
              "    }\n",
              "\n",
              "    .colab-df-convert:hover {\n",
              "      background-color: #E2EBFA;\n",
              "      box-shadow: 0px 1px 2px rgba(60, 64, 67, 0.3), 0px 1px 3px 1px rgba(60, 64, 67, 0.15);\n",
              "      fill: #174EA6;\n",
              "    }\n",
              "\n",
              "    .colab-df-buttons div {\n",
              "      margin-bottom: 4px;\n",
              "    }\n",
              "\n",
              "    [theme=dark] .colab-df-convert {\n",
              "      background-color: #3B4455;\n",
              "      fill: #D2E3FC;\n",
              "    }\n",
              "\n",
              "    [theme=dark] .colab-df-convert:hover {\n",
              "      background-color: #434B5C;\n",
              "      box-shadow: 0px 1px 3px 1px rgba(0, 0, 0, 0.15);\n",
              "      filter: drop-shadow(0px 1px 2px rgba(0, 0, 0, 0.3));\n",
              "      fill: #FFFFFF;\n",
              "    }\n",
              "  </style>\n",
              "\n",
              "    <script>\n",
              "      const buttonEl =\n",
              "        document.querySelector('#df-a02ed56e-602f-401f-bdeb-54c0f47ff1b0 button.colab-df-convert');\n",
              "      buttonEl.style.display =\n",
              "        google.colab.kernel.accessAllowed ? 'block' : 'none';\n",
              "\n",
              "      async function convertToInteractive(key) {\n",
              "        const element = document.querySelector('#df-a02ed56e-602f-401f-bdeb-54c0f47ff1b0');\n",
              "        const dataTable =\n",
              "          await google.colab.kernel.invokeFunction('convertToInteractive',\n",
              "                                                    [key], {});\n",
              "        if (!dataTable) return;\n",
              "\n",
              "        const docLinkHtml = 'Like what you see? Visit the ' +\n",
              "          '<a target=\"_blank\" href=https://colab.research.google.com/notebooks/data_table.ipynb>data table notebook</a>'\n",
              "          + ' to learn more about interactive tables.';\n",
              "        element.innerHTML = '';\n",
              "        dataTable['output_type'] = 'display_data';\n",
              "        await google.colab.output.renderOutput(dataTable, element);\n",
              "        const docLink = document.createElement('div');\n",
              "        docLink.innerHTML = docLinkHtml;\n",
              "        element.appendChild(docLink);\n",
              "      }\n",
              "    </script>\n",
              "  </div>\n",
              "\n",
              "\n",
              "<div id=\"df-9f7a9174-56ec-4ca1-8e03-830b66cc5503\">\n",
              "  <button class=\"colab-df-quickchart\" onclick=\"quickchart('df-9f7a9174-56ec-4ca1-8e03-830b66cc5503')\"\n",
              "            title=\"Suggest charts.\"\n",
              "            style=\"display:none;\">\n",
              "\n",
              "<svg xmlns=\"http://www.w3.org/2000/svg\" height=\"24px\"viewBox=\"0 0 24 24\"\n",
              "     width=\"24px\">\n",
              "    <g>\n",
              "        <path d=\"M19 3H5c-1.1 0-2 .9-2 2v14c0 1.1.9 2 2 2h14c1.1 0 2-.9 2-2V5c0-1.1-.9-2-2-2zM9 17H7v-7h2v7zm4 0h-2V7h2v10zm4 0h-2v-4h2v4z\"/>\n",
              "    </g>\n",
              "</svg>\n",
              "  </button>\n",
              "\n",
              "<style>\n",
              "  .colab-df-quickchart {\n",
              "    background-color: #E8F0FE;\n",
              "    border: none;\n",
              "    border-radius: 50%;\n",
              "    cursor: pointer;\n",
              "    display: none;\n",
              "    fill: #1967D2;\n",
              "    height: 32px;\n",
              "    padding: 0 0 0 0;\n",
              "    width: 32px;\n",
              "  }\n",
              "\n",
              "  .colab-df-quickchart:hover {\n",
              "    background-color: #E2EBFA;\n",
              "    box-shadow: 0px 1px 2px rgba(60, 64, 67, 0.3), 0px 1px 3px 1px rgba(60, 64, 67, 0.15);\n",
              "    fill: #174EA6;\n",
              "  }\n",
              "\n",
              "  [theme=dark] .colab-df-quickchart {\n",
              "    background-color: #3B4455;\n",
              "    fill: #D2E3FC;\n",
              "  }\n",
              "\n",
              "  [theme=dark] .colab-df-quickchart:hover {\n",
              "    background-color: #434B5C;\n",
              "    box-shadow: 0px 1px 3px 1px rgba(0, 0, 0, 0.15);\n",
              "    filter: drop-shadow(0px 1px 2px rgba(0, 0, 0, 0.3));\n",
              "    fill: #FFFFFF;\n",
              "  }\n",
              "</style>\n",
              "\n",
              "  <script>\n",
              "    async function quickchart(key) {\n",
              "      const charts = await google.colab.kernel.invokeFunction(\n",
              "          'suggestCharts', [key], {});\n",
              "    }\n",
              "    (() => {\n",
              "      let quickchartButtonEl =\n",
              "        document.querySelector('#df-9f7a9174-56ec-4ca1-8e03-830b66cc5503 button');\n",
              "      quickchartButtonEl.style.display =\n",
              "        google.colab.kernel.accessAllowed ? 'block' : 'none';\n",
              "    })();\n",
              "  </script>\n",
              "</div>\n",
              "    </div>\n",
              "  </div>\n"
            ]
          },
          "metadata": {},
          "execution_count": 33
        }
      ],
      "source": [
        "#Outof_sample Results\n",
        "stddev_oos = OutOfSample_Result.std() * np.sqrt(252)\n",
        "sharp_ratio_oos = (OutOfSample_Result.mean()*np.sqrt(252))/(OutOfSample_Result).std()\n",
        "Results_oos = pd.DataFrame(dict(stdev_oos=stddev_oos, sharp_ratio_oos = sharp_ratio_oos))\n",
        "Results_oos"
      ]
    }
  ],
  "metadata": {
    "_change_revision": 206,
    "_is_fork": false,
    "kernelspec": {
      "display_name": "Python 3 (ipykernel)",
      "language": "python",
      "name": "python3"
    },
    "language_info": {
      "codemirror_mode": {
        "name": "ipython",
        "version": 3
      },
      "file_extension": ".py",
      "mimetype": "text/x-python",
      "name": "python",
      "nbconvert_exporter": "python",
      "pygments_lexer": "ipython3",
      "version": "3.9.13"
    },
    "colab": {
      "provenance": [],
      "include_colab_link": true
    }
  },
  "nbformat": 4,
  "nbformat_minor": 0
}
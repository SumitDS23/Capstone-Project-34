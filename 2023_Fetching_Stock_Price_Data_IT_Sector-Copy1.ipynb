{
 "cells": [
  {
   "cell_type": "markdown",
   "metadata": {},
   "source": [
    "## Fetching the Stock Price Data for the Auto Sector"
   ]
  },
  {
   "cell_type": "code",
   "execution_count": 19,
   "metadata": {},
   "outputs": [],
   "source": [
    "# Load libraries\n",
    "import pandas as pd\n",
    "import pandas_datareader as dr\n",
    "import numpy as np"
   ]
  },
  {
   "cell_type": "code",
   "execution_count": 20,
   "metadata": {},
   "outputs": [],
   "source": [
    "#import numpy as np\n",
    "#tickers = np.array(['MARUTI.NS','M&M.NS','TATAMOTORS.NS','BAJAJ-AUTO.NS','EICHERMOT.NS','HEROMOTOCO.NS','TIINDIA.NS','ASHOKLEY.NS','BHARATFORG.NS', 'BALKRISIND.NS'])\n",
    "#tickers"
   ]
  },
  {
   "cell_type": "code",
   "execution_count": 21,
   "metadata": {},
   "outputs": [
    {
     "data": {
      "text/plain": [
       "array(['INFY.NS', 'TCS.NS', 'WIPRO.NS', 'TECHM.NS', 'HCLTECH.NS',\n",
       "       'LTIM.NS', 'PERSISTENT.NS', 'COFORGE.NS', 'MPHASIS.NS', 'LT.NS'],\n",
       "      dtype='<U13')"
      ]
     },
     "execution_count": 21,
     "metadata": {},
     "output_type": "execute_result"
    }
   ],
   "source": [
    "stocklist=['INFY','TCS','WIPRO','TECHM','HCLTECH','LTIM','PERSISTENT','COFORGE','MPHASIS','LT']\n",
    "tickers=np.array([i + '.NS' for i in stocklist])\n",
    "tickers"
   ]
  },
  {
   "cell_type": "code",
   "execution_count": 22,
   "metadata": {},
   "outputs": [],
   "source": [
    "from yahoofinancials import YahooFinancials"
   ]
  },
  {
   "cell_type": "code",
   "execution_count": 23,
   "metadata": {},
   "outputs": [],
   "source": [
    "yahoo_financials = YahooFinancials(tickers)"
   ]
  },
  {
   "cell_type": "code",
   "execution_count": 24,
   "metadata": {},
   "outputs": [],
   "source": [
    "test = yahoo_financials.get_historical_price_data(start_date='2019-07-1', \n",
    "                                                  end_date='2023-06-30', \n",
    "                                                  time_interval='daily')"
   ]
  },
  {
   "cell_type": "code",
   "execution_count": 25,
   "metadata": {},
   "outputs": [],
   "source": [
    "prices_df = pd.DataFrame({\n",
    "    a: {x['formatted_date']: x['close'] for x in test[a]['prices']} for a in tickers})"
   ]
  },
  {
   "cell_type": "code",
   "execution_count": 26,
   "metadata": {},
   "outputs": [
    {
     "data": {
      "text/html": [
       "<div>\n",
       "<style scoped>\n",
       "    .dataframe tbody tr th:only-of-type {\n",
       "        vertical-align: middle;\n",
       "    }\n",
       "\n",
       "    .dataframe tbody tr th {\n",
       "        vertical-align: top;\n",
       "    }\n",
       "\n",
       "    .dataframe thead th {\n",
       "        text-align: right;\n",
       "    }\n",
       "</style>\n",
       "<table border=\"1\" class=\"dataframe\">\n",
       "  <thead>\n",
       "    <tr style=\"text-align: right;\">\n",
       "      <th></th>\n",
       "      <th>INFY.NS</th>\n",
       "      <th>TCS.NS</th>\n",
       "      <th>WIPRO.NS</th>\n",
       "      <th>TECHM.NS</th>\n",
       "      <th>HCLTECH.NS</th>\n",
       "      <th>LTIM.NS</th>\n",
       "      <th>PERSISTENT.NS</th>\n",
       "      <th>COFORGE.NS</th>\n",
       "      <th>MPHASIS.NS</th>\n",
       "      <th>LT.NS</th>\n",
       "    </tr>\n",
       "  </thead>\n",
       "  <tbody>\n",
       "    <tr>\n",
       "      <th>2019-07-01</th>\n",
       "      <td>731.299988</td>\n",
       "      <td>2239.550049</td>\n",
       "      <td>282.000000</td>\n",
       "      <td>704.650024</td>\n",
       "      <td>524.549988</td>\n",
       "      <td>1841.250000</td>\n",
       "      <td>616.150024</td>\n",
       "      <td>1350.699951</td>\n",
       "      <td>990.700012</td>\n",
       "      <td>1556.650024</td>\n",
       "    </tr>\n",
       "    <tr>\n",
       "      <th>2019-07-02</th>\n",
       "      <td>740.000000</td>\n",
       "      <td>2252.100098</td>\n",
       "      <td>284.250000</td>\n",
       "      <td>711.650024</td>\n",
       "      <td>530.000000</td>\n",
       "      <td>1764.699951</td>\n",
       "      <td>611.700012</td>\n",
       "      <td>1345.849976</td>\n",
       "      <td>972.650024</td>\n",
       "      <td>1563.849976</td>\n",
       "    </tr>\n",
       "    <tr>\n",
       "      <th>2019-07-03</th>\n",
       "      <td>731.299988</td>\n",
       "      <td>2237.649902</td>\n",
       "      <td>282.850006</td>\n",
       "      <td>701.099976</td>\n",
       "      <td>525.599976</td>\n",
       "      <td>1735.199951</td>\n",
       "      <td>615.799988</td>\n",
       "      <td>1333.650024</td>\n",
       "      <td>988.950012</td>\n",
       "      <td>1578.050049</td>\n",
       "    </tr>\n",
       "    <tr>\n",
       "      <th>2019-07-04</th>\n",
       "      <td>733.799988</td>\n",
       "      <td>2242.649902</td>\n",
       "      <td>283.850006</td>\n",
       "      <td>700.599976</td>\n",
       "      <td>520.375000</td>\n",
       "      <td>1655.800049</td>\n",
       "      <td>620.599976</td>\n",
       "      <td>1338.150024</td>\n",
       "      <td>994.400024</td>\n",
       "      <td>1571.699951</td>\n",
       "    </tr>\n",
       "    <tr>\n",
       "      <th>2019-07-05</th>\n",
       "      <td>718.000000</td>\n",
       "      <td>2163.100098</td>\n",
       "      <td>271.850006</td>\n",
       "      <td>681.099976</td>\n",
       "      <td>508.200012</td>\n",
       "      <td>1665.699951</td>\n",
       "      <td>627.200012</td>\n",
       "      <td>1323.500000</td>\n",
       "      <td>981.950012</td>\n",
       "      <td>1558.349976</td>\n",
       "    </tr>\n",
       "  </tbody>\n",
       "</table>\n",
       "</div>"
      ],
      "text/plain": [
       "               INFY.NS       TCS.NS    WIPRO.NS    TECHM.NS  HCLTECH.NS  \\\n",
       "2019-07-01  731.299988  2239.550049  282.000000  704.650024  524.549988   \n",
       "2019-07-02  740.000000  2252.100098  284.250000  711.650024  530.000000   \n",
       "2019-07-03  731.299988  2237.649902  282.850006  701.099976  525.599976   \n",
       "2019-07-04  733.799988  2242.649902  283.850006  700.599976  520.375000   \n",
       "2019-07-05  718.000000  2163.100098  271.850006  681.099976  508.200012   \n",
       "\n",
       "                LTIM.NS  PERSISTENT.NS   COFORGE.NS  MPHASIS.NS        LT.NS  \n",
       "2019-07-01  1841.250000     616.150024  1350.699951  990.700012  1556.650024  \n",
       "2019-07-02  1764.699951     611.700012  1345.849976  972.650024  1563.849976  \n",
       "2019-07-03  1735.199951     615.799988  1333.650024  988.950012  1578.050049  \n",
       "2019-07-04  1655.800049     620.599976  1338.150024  994.400024  1571.699951  \n",
       "2019-07-05  1665.699951     627.200012  1323.500000  981.950012  1558.349976  "
      ]
     },
     "execution_count": 26,
     "metadata": {},
     "output_type": "execute_result"
    }
   ],
   "source": [
    "prices_df.head()"
   ]
  },
  {
   "cell_type": "code",
   "execution_count": 27,
   "metadata": {},
   "outputs": [],
   "source": [
    "prices_df.to_csv('IT.csv')"
   ]
  },
  {
   "cell_type": "code",
   "execution_count": null,
   "metadata": {},
   "outputs": [],
   "source": []
  },
  {
   "cell_type": "code",
   "execution_count": null,
   "metadata": {},
   "outputs": [],
   "source": []
  }
 ],
 "metadata": {
  "kernelspec": {
   "display_name": "Python 3 (ipykernel)",
   "language": "python",
   "name": "python3"
  },
  "language_info": {
   "codemirror_mode": {
    "name": "ipython",
    "version": 3
   },
   "file_extension": ".py",
   "mimetype": "text/x-python",
   "name": "python",
   "nbconvert_exporter": "python",
   "pygments_lexer": "ipython3",
   "version": "3.9.13"
  }
 },
 "nbformat": 4,
 "nbformat_minor": 2
}
